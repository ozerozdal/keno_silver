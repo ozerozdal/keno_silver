{
 "cells": [
  {
   "cell_type": "code",
   "execution_count": 1,
   "id": "204d43e9",
   "metadata": {},
   "outputs": [],
   "source": [
    "import os\n",
    "import glob\n",
    "import numpy as np\n",
    "from GeoDS.featureengineering import feature_extraction as feat_ext\n",
    "from GeoDS.featureengineering import featureengineer as feat_eng\n",
    "from GeoDS import utilities\n",
    "import xrspatial"
   ]
  },
  {
   "cell_type": "code",
   "execution_count": 2,
   "id": "a0cc4d14",
   "metadata": {},
   "outputs": [],
   "source": [
    "crs = 'epsg:26908'\n",
    "res = 10\n",
    "xRes = res\n",
    "yRes = res\n",
    "AOI = 'AOI/KenoSilver_AOI_4ML.shp'"
   ]
  },
  {
   "cell_type": "code",
   "execution_count": 3,
   "id": "9e7370ca",
   "metadata": {},
   "outputs": [],
   "source": [
    "DEM_directory = \"DEM\"\n",
    "\n",
    "DEM_circlekernel_r7 = os.path.join(DEM_directory, \"circle_kernel_r7\")\n",
    "DEM_circlekernel_r11 = os.path.join(DEM_directory, \"circle_kernel_r11\")\n",
    "DEM_squarekernel_r3 = os.path.join(DEM_directory, \"square_kernel_r3\")\n",
    "DEM_squarekernel_r5 = os.path.join(DEM_directory, \"square_kernel_r5\")"
   ]
  },
  {
   "cell_type": "code",
   "execution_count": null,
   "id": "93ac178e",
   "metadata": {},
   "outputs": [],
   "source": [
    "square_kernel = xrspatial.convolution.custom_kernel(np.ones([3,3]))\n",
    "\n",
    "for feature in glob.glob(os.path.join(DEM_directory, \"*.tif\")):\n",
    "    feat_ext.moving_window_statistics(\n",
    "        input_data = feature, \n",
    "        output_directory = DEM_squarekernel_r3, \n",
    "        dstCRS = crs, \n",
    "        kernel = square_kernel, \n",
    "        columns=None, \n",
    "        x_field=None,\n",
    "        y_field=None,\n",
    "        stats=['mean', 'max', 'min', 'range', 'std', 'var', 'sum']\n",
    "        )"
   ]
  },
  {
   "cell_type": "code",
   "execution_count": null,
   "id": "e0665f31",
   "metadata": {},
   "outputs": [],
   "source": []
  }
 ],
 "metadata": {
  "kernelspec": {
   "display_name": "Geods Kernel",
   "language": "python",
   "name": "geods"
  },
  "language_info": {
   "codemirror_mode": {
    "name": "ipython",
    "version": 3
   },
   "file_extension": ".py",
   "mimetype": "text/x-python",
   "name": "python",
   "nbconvert_exporter": "python",
   "pygments_lexer": "ipython3",
   "version": "3.7.10"
  }
 },
 "nbformat": 4,
 "nbformat_minor": 5
}
