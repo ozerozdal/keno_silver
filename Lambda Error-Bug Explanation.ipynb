{
 "cells": [
  {
   "cell_type": "code",
   "execution_count": 1,
   "id": "eb8c45ba",
   "metadata": {},
   "outputs": [],
   "source": [
    "import GeoDS\n",
    "\n",
    "from sklearn import datasets, linear_model\n",
    "from sklearn.model_selection import train_test_split\n",
    "\n",
    "dataset = datasets.load_diabetes(as_frame=True)\n",
    "\n",
    "X = dataset.data\n",
    "y = dataset.target\n",
    "\n",
    "y = y.to_frame()\n",
    "\n",
    "X_train, X_test, y_train, y_test = train_test_split(X, y, train_size=0.8, random_state=42)"
   ]
  },
  {
   "cell_type": "code",
   "execution_count": 2,
   "id": "676fe4d2",
   "metadata": {},
   "outputs": [],
   "source": [
    "from sklearn.datasets import load_breast_cancer\n",
    "from sklearn.model_selection import train_test_split\n",
    "import numpy as np\n",
    "from GeoDS.supervised import pipelineator\n",
    "from GeoDS.supervised import tuning\n",
    "X, y = load_breast_cancer(return_X_y=True, as_frame=True)\n",
    "X_train, X_test, y_train, y_test = train_test_split(X, y, test_size=0.2, random_state=42)\n",
    "n_classes = len(np.unique(y))\n",
    "cat_indices = X_train.columns.get_indexer(X_train.select_dtypes('object').columns)\n",
    "dp = pipelineator.DefaultSupervisedPipeline(categorical_features_indices=cat_indices, objective='binary', lgbm_num_classes=n_classes)\n"
   ]
  },
  {
   "cell_type": "code",
   "execution_count": 50,
   "id": "cb896465",
   "metadata": {},
   "outputs": [],
   "source": [
    "# First define the function!\n",
    "# See that trial and p must be the inputs of the function! We will see the reason soon!\n",
    "\n",
    "pipes = [dp.lgbm_pipeline, dp.random_forest_pipeline]\n",
    "\n",
    "lambda_objective = [lambda trial, p=p: tuning.objective(trial, \n",
    "                                                  pipeline=p,\n",
    "                                                  X_train=X_train, \n",
    "                                                  y_train=y_train, \n",
    "                                                  cross_validator=5,\n",
    "                                                  groups=None,\n",
    "                                                  scoring_metric='f1_macro') for p in pipes]"
   ]
  },
  {
   "cell_type": "code",
   "execution_count": 51,
   "id": "01eee329",
   "metadata": {},
   "outputs": [
    {
     "data": {
      "text/plain": [
       "[<function __main__.<listcomp>.<lambda>(trial, p=Pipeline(steps=[('pre',\n",
       "                 ColumnTransformer(transformers=[('numerical_transfo',\n",
       "                                                  Pipeline(steps=[('scaler',\n",
       "                                                                   StandardScaler())]),\n",
       "                                                  <sklearn.compose._column_transformer.make_column_selector object at 0x7fe6b4065850>),\n",
       "                                                 ('categorical_transfo',\n",
       "                                                  Pipeline(steps=[('encoder',\n",
       "                                                                   OneHotEncoder(handle_unknown='ignore'))]),\n",
       "                                                  <sklearn.compose._column_transformer.make_column_selector object at 0x7fe6b40657d0>)])),\n",
       "                ('imb', SMOTEENN(random_state=42)),\n",
       "                ('clf', LGBMClassifier(objective='binary', random_state=42))]))>,\n",
       " <function __main__.<listcomp>.<lambda>(trial, p=Pipeline(steps=[('pre',\n",
       "                 ColumnTransformer(transformers=[('numerical_transfo',\n",
       "                                                  Pipeline(steps=[('scaler',\n",
       "                                                                   StandardScaler())]),\n",
       "                                                  <sklearn.compose._column_transformer.make_column_selector object at 0x7fe6b4065850>),\n",
       "                                                 ('categorical_transfo',\n",
       "                                                  Pipeline(steps=[('encoder',\n",
       "                                                                   OneHotEncoder(handle_unknown='ignore'))]),\n",
       "                                                  <sklearn.compose._column_transformer.make_column_selector object at 0x7fe6b40657d0>)])),\n",
       "                ('imb', SMOTEENN(random_state=42)),\n",
       "                ('clf', RandomForestClassifier(random_state=42))]))>]"
      ]
     },
     "execution_count": 51,
     "metadata": {},
     "output_type": "execute_result"
    }
   ],
   "source": [
    "lambda_objective"
   ]
  },
  {
   "cell_type": "code",
   "execution_count": 45,
   "id": "e9dabb6e",
   "metadata": {},
   "outputs": [
    {
     "ename": "AttributeError",
     "evalue": "'int' object has no attribute 'suggest_categorical'",
     "output_type": "error",
     "traceback": [
      "\u001b[0;31m---------------------------------------------------------------------------\u001b[0m",
      "\u001b[0;31mAttributeError\u001b[0m                            Traceback (most recent call last)",
      "\u001b[0;32m/tmp/ipykernel_12/1952124293.py\u001b[0m in \u001b[0;36m<module>\u001b[0;34m\u001b[0m\n\u001b[0;32m----> 1\u001b[0;31m \u001b[0;34m[\u001b[0m\u001b[0mx\u001b[0m\u001b[0;34m(\u001b[0m\u001b[0mtrial\u001b[0m\u001b[0;34m)\u001b[0m \u001b[0;32mfor\u001b[0m \u001b[0mx\u001b[0m \u001b[0;32min\u001b[0m \u001b[0mlambda_objective\u001b[0m\u001b[0;34m]\u001b[0m\u001b[0;34m\u001b[0m\u001b[0;34m\u001b[0m\u001b[0m\n\u001b[0m",
      "\u001b[0;32m/tmp/ipykernel_12/1952124293.py\u001b[0m in \u001b[0;36m<listcomp>\u001b[0;34m(.0)\u001b[0m\n\u001b[0;32m----> 1\u001b[0;31m \u001b[0;34m[\u001b[0m\u001b[0mx\u001b[0m\u001b[0;34m(\u001b[0m\u001b[0mtrial\u001b[0m\u001b[0;34m)\u001b[0m \u001b[0;32mfor\u001b[0m \u001b[0mx\u001b[0m \u001b[0;32min\u001b[0m \u001b[0mlambda_objective\u001b[0m\u001b[0;34m]\u001b[0m\u001b[0;34m\u001b[0m\u001b[0;34m\u001b[0m\u001b[0m\n\u001b[0m",
      "\u001b[0;32m/tmp/ipykernel_12/2293460123.py\u001b[0m in \u001b[0;36m<lambda>\u001b[0;34m(trial, p)\u001b[0m\n\u001b[1;32m     10\u001b[0m                                                   \u001b[0mcross_validator\u001b[0m\u001b[0;34m=\u001b[0m\u001b[0;36m5\u001b[0m\u001b[0;34m,\u001b[0m\u001b[0;34m\u001b[0m\u001b[0;34m\u001b[0m\u001b[0m\n\u001b[1;32m     11\u001b[0m                                                   \u001b[0mgroups\u001b[0m\u001b[0;34m=\u001b[0m\u001b[0;32mNone\u001b[0m\u001b[0;34m,\u001b[0m\u001b[0;34m\u001b[0m\u001b[0;34m\u001b[0m\u001b[0m\n\u001b[0;32m---> 12\u001b[0;31m                                                   scoring_metric='f1_macro') for p in pipes]\n\u001b[0m",
      "\u001b[0;32m~/miniconda3/envs/geods37/lib/python3.7/site-packages/GeoDS-1.1.0-py3.7.egg/GeoDS/supervised/tuning.py\u001b[0m in \u001b[0;36mobjective\u001b[0;34m(trial, pipeline, X_train, y_train, cross_validator, groups, scoring_metric, tune_on)\u001b[0m\n\u001b[1;32m    201\u001b[0m     \"\"\"\n\u001b[1;32m    202\u001b[0m \u001b[0;34m\u001b[0m\u001b[0m\n\u001b[0;32m--> 203\u001b[0;31m     \u001b[0mparams\u001b[0m \u001b[0;34m=\u001b[0m \u001b[0mSuggestor\u001b[0m\u001b[0;34m(\u001b[0m\u001b[0mtrial\u001b[0m\u001b[0;34m,\u001b[0m \u001b[0mpipeline\u001b[0m\u001b[0;34m[\u001b[0m\u001b[0;34m'clf'\u001b[0m\u001b[0;34m]\u001b[0m\u001b[0;34m)\u001b[0m\u001b[0;34m.\u001b[0m\u001b[0mget_params\u001b[0m\u001b[0;34m(\u001b[0m\u001b[0;34m)\u001b[0m\u001b[0;34m\u001b[0m\u001b[0;34m\u001b[0m\u001b[0m\n\u001b[0m\u001b[1;32m    204\u001b[0m \u001b[0;34m\u001b[0m\u001b[0m\n\u001b[1;32m    205\u001b[0m     \u001b[0mpipeline\u001b[0m\u001b[0;34m[\u001b[0m\u001b[0;34m'clf'\u001b[0m\u001b[0;34m]\u001b[0m\u001b[0;34m.\u001b[0m\u001b[0mset_params\u001b[0m\u001b[0;34m(\u001b[0m\u001b[0;34m**\u001b[0m\u001b[0mparams\u001b[0m\u001b[0;34m)\u001b[0m\u001b[0;34m\u001b[0m\u001b[0;34m\u001b[0m\u001b[0m\n",
      "\u001b[0;32m~/miniconda3/envs/geods37/lib/python3.7/site-packages/GeoDS-1.1.0-py3.7.egg/GeoDS/supervised/tuning.py\u001b[0m in \u001b[0;36mget_params\u001b[0;34m(self)\u001b[0m\n\u001b[1;32m    155\u001b[0m             \u001b[0mparameters\u001b[0m \u001b[0;34m=\u001b[0m \u001b[0mself\u001b[0m\u001b[0;34m.\u001b[0m\u001b[0madaboost_params_func\u001b[0m\u001b[0;34m(\u001b[0m\u001b[0mself\u001b[0m\u001b[0;34m.\u001b[0m\u001b[0mtrial\u001b[0m\u001b[0;34m)\u001b[0m\u001b[0;34m\u001b[0m\u001b[0;34m\u001b[0m\u001b[0m\n\u001b[1;32m    156\u001b[0m         \u001b[0;32mif\u001b[0m \u001b[0mtype\u001b[0m\u001b[0;34m(\u001b[0m\u001b[0mself\u001b[0m\u001b[0;34m.\u001b[0m\u001b[0mclassifier\u001b[0m\u001b[0;34m)\u001b[0m \u001b[0;34m==\u001b[0m \u001b[0mLGBMClassifier\u001b[0m\u001b[0;34m:\u001b[0m\u001b[0;34m\u001b[0m\u001b[0;34m\u001b[0m\u001b[0m\n\u001b[0;32m--> 157\u001b[0;31m             \u001b[0mparameters\u001b[0m \u001b[0;34m=\u001b[0m \u001b[0mself\u001b[0m\u001b[0;34m.\u001b[0m\u001b[0mlgbm_params_func\u001b[0m\u001b[0;34m(\u001b[0m\u001b[0mself\u001b[0m\u001b[0;34m.\u001b[0m\u001b[0mtrial\u001b[0m\u001b[0;34m)\u001b[0m\u001b[0;34m\u001b[0m\u001b[0;34m\u001b[0m\u001b[0m\n\u001b[0m\u001b[1;32m    158\u001b[0m \u001b[0;34m\u001b[0m\u001b[0m\n\u001b[1;32m    159\u001b[0m         \u001b[0mparameters\u001b[0m\u001b[0;34m.\u001b[0m\u001b[0mupdate\u001b[0m\u001b[0;34m(\u001b[0m\u001b[0mexisting_params\u001b[0m\u001b[0;34m)\u001b[0m\u001b[0;34m\u001b[0m\u001b[0;34m\u001b[0m\u001b[0m\n",
      "\u001b[0;32m~/miniconda3/envs/geods37/lib/python3.7/site-packages/GeoDS-1.1.0-py3.7.egg/GeoDS/supervised/tuning.py\u001b[0m in \u001b[0;36mlightgbm_params\u001b[0;34m(trial)\u001b[0m\n\u001b[1;32m     41\u001b[0m \u001b[0;34m\u001b[0m\u001b[0m\n\u001b[1;32m     42\u001b[0m \u001b[0;32mdef\u001b[0m \u001b[0mlightgbm_params\u001b[0m\u001b[0;34m(\u001b[0m\u001b[0mtrial\u001b[0m\u001b[0;34m)\u001b[0m\u001b[0;34m:\u001b[0m\u001b[0;34m\u001b[0m\u001b[0;34m\u001b[0m\u001b[0m\n\u001b[0;32m---> 43\u001b[0;31m     params = {\"boosting_type\": trial.suggest_categorical(\"clf__bosting_type\", ['gbdt', 'dart', 'goss']),\n\u001b[0m\u001b[1;32m     44\u001b[0m               \u001b[0;34m\"num_leaves\"\u001b[0m\u001b[0;34m:\u001b[0m \u001b[0mtrial\u001b[0m\u001b[0;34m.\u001b[0m\u001b[0msuggest_int\u001b[0m\u001b[0;34m(\u001b[0m\u001b[0;34m'clf__num_leaves'\u001b[0m\u001b[0;34m,\u001b[0m \u001b[0;36m10\u001b[0m\u001b[0;34m,\u001b[0m \u001b[0;36m200\u001b[0m\u001b[0;34m)\u001b[0m\u001b[0;34m,\u001b[0m\u001b[0;34m\u001b[0m\u001b[0;34m\u001b[0m\u001b[0m\n\u001b[1;32m     45\u001b[0m               \u001b[0;34m\"min_data\"\u001b[0m\u001b[0;34m:\u001b[0m \u001b[0mtrial\u001b[0m\u001b[0;34m.\u001b[0m\u001b[0msuggest_int\u001b[0m\u001b[0;34m(\u001b[0m\u001b[0;34m'clf__min_data'\u001b[0m\u001b[0;34m,\u001b[0m \u001b[0;36m50\u001b[0m\u001b[0;34m,\u001b[0m \u001b[0;36m200\u001b[0m\u001b[0;34m)\u001b[0m\u001b[0;34m,\u001b[0m\u001b[0;34m\u001b[0m\u001b[0;34m\u001b[0m\u001b[0m\n",
      "\u001b[0;31mAttributeError\u001b[0m: 'int' object has no attribute 'suggest_categorical'"
     ]
    },
    {
     "name": "stdout",
     "output_type": "stream",
     "text": [
      "[LightGBM] [Warning] min_data_in_leaf is set with min_data=73, min_child_samples=20 will be ignored. Current value: min_data_in_leaf=73\n",
      "[LightGBM] [Warning] min_data_in_leaf is set with min_data=73, min_child_samples=20 will be ignored. Current value: min_data_in_leaf=73\n",
      "[LightGBM] [Warning] min_data_in_leaf is set with min_data=73, min_child_samples=20 will be ignored. Current value: min_data_in_leaf=73\n",
      "[LightGBM] [Warning] min_data_in_leaf is set with min_data=73, min_child_samples=20 will be ignored. Current value: min_data_in_leaf=73\n",
      "[LightGBM] [Warning] min_data_in_leaf is set with min_data=73, min_child_samples=20 will be ignored. Current value: min_data_in_leaf=73\n",
      "[LightGBM] [Warning] min_data_in_leaf is set with min_data=73, min_child_samples=20 will be ignored. Current value: min_data_in_leaf=73\n",
      "[LightGBM] [Warning] min_data_in_leaf is set with min_data=73, min_child_samples=20 will be ignored. Current value: min_data_in_leaf=73\n",
      "[LightGBM] [Warning] min_data_in_leaf is set with min_data=73, min_child_samples=20 will be ignored. Current value: min_data_in_leaf=73\n",
      "[LightGBM] [Warning] min_data_in_leaf is set with min_data=73, min_child_samples=20 will be ignored. Current value: min_data_in_leaf=73\n",
      "[LightGBM] [Warning] min_data_in_leaf is set with min_data=73, min_child_samples=20 will be ignored. Current value: min_data_in_leaf=73\n",
      "[LightGBM] [Warning] min_data_in_leaf is set with min_data=73, min_child_samples=20 will be ignored. Current value: min_data_in_leaf=73\n",
      "[LightGBM] [Warning] min_data_in_leaf is set with min_data=73, min_child_samples=20 will be ignored. Current value: min_data_in_leaf=73\n",
      "[LightGBM] [Warning] min_data_in_leaf is set with min_data=73, min_child_samples=20 will be ignored. Current value: min_data_in_leaf=73\n",
      "[LightGBM] [Warning] min_data_in_leaf is set with min_data=73, min_child_samples=20 will be ignored. Current value: min_data_in_leaf=73\n",
      "[LightGBM] [Warning] min_data_in_leaf is set with min_data=73, min_child_samples=20 will be ignored. Current value: min_data_in_leaf=73\n",
      "[LightGBM] [Warning] min_data_in_leaf is set with min_data=73, min_child_samples=20 will be ignored. Current value: min_data_in_leaf=73\n",
      "[LightGBM] [Warning] min_data_in_leaf is set with min_data=73, min_child_samples=20 will be ignored. Current value: min_data_in_leaf=73\n",
      "[LightGBM] [Warning] min_data_in_leaf is set with min_data=73, min_child_samples=20 will be ignored. Current value: min_data_in_leaf=73\n",
      "[LightGBM] [Warning] min_data_in_leaf is set with min_data=73, min_child_samples=20 will be ignored. Current value: min_data_in_leaf=73\n",
      "[LightGBM] [Warning] min_data_in_leaf is set with min_data=73, min_child_samples=20 will be ignored. Current value: min_data_in_leaf=73\n",
      "[LightGBM] [Warning] min_data_in_leaf is set with min_data=73, min_child_samples=20 will be ignored. Current value: min_data_in_leaf=73\n",
      "[LightGBM] [Warning] min_data_in_leaf is set with min_data=73, min_child_samples=20 will be ignored. Current value: min_data_in_leaf=73\n",
      "[LightGBM] [Warning] min_data_in_leaf is set with min_data=73, min_child_samples=20 will be ignored. Current value: min_data_in_leaf=73\n",
      "[LightGBM] [Warning] min_data_in_leaf is set with min_data=73, min_child_samples=20 will be ignored. Current value: min_data_in_leaf=73\n",
      "[LightGBM] [Warning] min_data_in_leaf is set with min_data=73, min_child_samples=20 will be ignored. Current value: min_data_in_leaf=73\n"
     ]
    }
   ],
   "source": [
    "[x(trial) for x in lambda_objective]"
   ]
  },
  {
   "cell_type": "code",
   "execution_count": null,
   "id": "b490daf6",
   "metadata": {},
   "outputs": [],
   "source": []
  },
  {
   "cell_type": "code",
   "execution_count": 3,
   "id": "308af989",
   "metadata": {},
   "outputs": [],
   "source": [
    "# First define the function!\n",
    "# See that trial and p must be the inputs of the function! We will see the reason soon!\n",
    "\n",
    "lambda_objective = lambda trial, p: tuning.objective(trial, \n",
    "                                                  pipeline=p,\n",
    "                                                  X_train=X_train, \n",
    "                                                  y_train=y_train, \n",
    "                                                  cross_validator=5,\n",
    "                                                  groups=None,\n",
    "                                                  scoring_metric='f1_macro')"
   ]
  },
  {
   "cell_type": "code",
   "execution_count": 4,
   "id": "58b8433b",
   "metadata": {},
   "outputs": [
    {
     "name": "stdout",
     "output_type": "stream",
     "text": [
      "<function <lambda> at 0x7fe6a51c34d0>\n",
      "<function <lambda> at 0x7fe6a51c34d0>\n"
     ]
    }
   ],
   "source": [
    "# Mistake! The reason of the bug!\n",
    "\n",
    "pipes = [dp.lgbm_pipeline, dp.random_forest_pipeline]\n",
    "\n",
    "for p in pipes: print(lambda_objective) # See that the output is a lambda function.\n",
    "# However, objective_function below takes a pipeline object, not a lambda function.\n",
    "\n",
    "\n",
    "# Extra Info: This error persists if we use list comprehensions like below\n",
    "# Because it actually repeats the same mistake in a cool way :D\n",
    "\n",
    "\n",
    "# [lambda_objective for p in pipes] ---> Mistake"
   ]
  },
  {
   "cell_type": "code",
   "execution_count": 48,
   "id": "cfcb204a",
   "metadata": {},
   "outputs": [
    {
     "data": {
      "text/plain": [
       "<function __main__.<listcomp>.<lambda>(trial, p=Pipeline(steps=[('pre',\n",
       "                 ColumnTransformer(transformers=[('numerical_transfo',\n",
       "                                                  Pipeline(steps=[('scaler',\n",
       "                                                                   StandardScaler())]),\n",
       "                                                  <sklearn.compose._column_transformer.make_column_selector object at 0x7fe6b4065850>),\n",
       "                                                 ('categorical_transfo',\n",
       "                                                  Pipeline(steps=[('encoder',\n",
       "                                                                   OneHotEncoder(handle_unknown='ignore'))]),\n",
       "                                                  <sklearn.compose._column_transformer.make_column_selector object at 0x7fe6b40657d0>)])),\n",
       "                ('imb', SMOTEENN(random_state=42)),\n",
       "                ('clf', LGBMClassifier(objective='binary', random_state=42))]))>"
      ]
     },
     "execution_count": 48,
     "metadata": {},
     "output_type": "execute_result"
    }
   ],
   "source": [
    "lambda_objective[0]"
   ]
  },
  {
   "cell_type": "code",
   "execution_count": 59,
   "id": "1678e555",
   "metadata": {},
   "outputs": [
    {
     "name": "stderr",
     "output_type": "stream",
     "text": [
      "\u001b[32m[I 2022-09-21 03:36:05,666]\u001b[0m A new study created in memory with name: test\u001b[0m\n",
      "\u001b[32m[I 2022-09-21 03:36:05,851]\u001b[0m Trial 0 finished with value: 0.9619485208278313 and parameters: {'clf__bosting_type': 'dart', 'clf__num_leaves': 124, 'clf__min_data': 73, 'clf__max_depth': 5, 'clf__reg_alpha': 0.05808361216819946, 'clf__reg_lambda': 0.8661761457749352, 'clf__learning_rate': 0.19956529392808392, 'drop_rate': 0.004619347374377372, 'skip_drop': 1.4610865886287176e-08}. Best is trial 0 with value: 0.9619485208278313.\u001b[0m\n",
      "\u001b[32m[I 2022-09-21 03:36:06,034]\u001b[0m Trial 1 finished with value: 0.9619485208278313 and parameters: {'clf__bosting_type': 'gbdt', 'clf__num_leaves': 44, 'clf__min_data': 77, 'clf__max_depth': 6, 'clf__reg_alpha': 0.5247564316322378, 'clf__reg_lambda': 0.43194501864211576, 'clf__learning_rate': 0.09776854331372624}. Best is trial 0 with value: 0.9619485208278313.\u001b[0m\n",
      "\u001b[32m[I 2022-09-21 03:36:06,220]\u001b[0m Trial 2 finished with value: 0.9619485208278313 and parameters: {'clf__bosting_type': 'gbdt', 'clf__num_leaves': 79, 'clf__min_data': 118, 'clf__max_depth': 11, 'clf__reg_alpha': 0.19967378215835974, 'clf__reg_lambda': 0.5142344384136116, 'clf__learning_rate': 0.19560708142748476}. Best is trial 0 with value: 0.9619485208278313.\u001b[0m\n",
      "\u001b[32m[I 2022-09-21 03:36:06,410]\u001b[0m Trial 3 finished with value: 0.9619485208278313 and parameters: {'clf__bosting_type': 'dart', 'clf__num_leaves': 22, 'clf__min_data': 193, 'clf__max_depth': 12, 'clf__reg_alpha': 0.8083973481164611, 'clf__reg_lambda': 0.3046137691733707, 'clf__learning_rate': 0.06260977143530197, 'drop_rate': 0.0029775853025212607, 'skip_drop': 3.320625892007924e-05}. Best is trial 0 with value: 0.9619485208278313.\u001b[0m\n",
      "\u001b[32m[I 2022-09-21 03:36:06,596]\u001b[0m Trial 4 finished with value: 0.9619485208278313 and parameters: {'clf__bosting_type': 'dart', 'clf__num_leaves': 183, 'clf__min_data': 89, 'clf__max_depth': 9, 'clf__reg_alpha': 0.31171107608941095, 'clf__reg_lambda': 0.5200680211778108, 'clf__learning_rate': 0.1760679402733934, 'drop_rate': 3.0118659882617117e-07, 'skip_drop': 0.5710537951126793}. Best is trial 0 with value: 0.9619485208278313.\u001b[0m\n",
      "\u001b[32m[I 2022-09-21 03:36:06,610]\u001b[0m A new study created in memory with name: test\u001b[0m\n",
      "\u001b[32m[I 2022-09-21 03:36:06,792]\u001b[0m Trial 0 finished with value: 0.9619485208278313 and parameters: {'clf__bosting_type': 'dart', 'clf__num_leaves': 124, 'clf__min_data': 73, 'clf__max_depth': 5, 'clf__reg_alpha': 0.05808361216819946, 'clf__reg_lambda': 0.8661761457749352, 'clf__learning_rate': 0.19956529392808392, 'drop_rate': 0.004619347374377372, 'skip_drop': 1.4610865886287176e-08}. Best is trial 0 with value: 0.9619485208278313.\u001b[0m\n"
     ]
    },
    {
     "name": "stdout",
     "output_type": "stream",
     "text": [
      "Trained models saved in ./models/ \n"
     ]
    },
    {
     "name": "stderr",
     "output_type": "stream",
     "text": [
      "\u001b[32m[I 2022-09-21 03:36:06,979]\u001b[0m Trial 1 finished with value: 0.9619485208278313 and parameters: {'clf__bosting_type': 'gbdt', 'clf__num_leaves': 44, 'clf__min_data': 77, 'clf__max_depth': 6, 'clf__reg_alpha': 0.5247564316322378, 'clf__reg_lambda': 0.43194501864211576, 'clf__learning_rate': 0.09776854331372624}. Best is trial 0 with value: 0.9619485208278313.\u001b[0m\n",
      "\u001b[32m[I 2022-09-21 03:36:07,163]\u001b[0m Trial 2 finished with value: 0.9619485208278313 and parameters: {'clf__bosting_type': 'gbdt', 'clf__num_leaves': 79, 'clf__min_data': 118, 'clf__max_depth': 11, 'clf__reg_alpha': 0.19967378215835974, 'clf__reg_lambda': 0.5142344384136116, 'clf__learning_rate': 0.19560708142748476}. Best is trial 0 with value: 0.9619485208278313.\u001b[0m\n",
      "\u001b[32m[I 2022-09-21 03:36:07,353]\u001b[0m Trial 3 finished with value: 0.9619485208278313 and parameters: {'clf__bosting_type': 'dart', 'clf__num_leaves': 22, 'clf__min_data': 193, 'clf__max_depth': 12, 'clf__reg_alpha': 0.8083973481164611, 'clf__reg_lambda': 0.3046137691733707, 'clf__learning_rate': 0.06260977143530197, 'drop_rate': 0.0029775853025212607, 'skip_drop': 3.320625892007924e-05}. Best is trial 0 with value: 0.9619485208278313.\u001b[0m\n",
      "\u001b[32m[I 2022-09-21 03:36:07,540]\u001b[0m Trial 4 finished with value: 0.9619485208278313 and parameters: {'clf__bosting_type': 'dart', 'clf__num_leaves': 183, 'clf__min_data': 89, 'clf__max_depth': 9, 'clf__reg_alpha': 0.31171107608941095, 'clf__reg_lambda': 0.5200680211778108, 'clf__learning_rate': 0.1760679402733934, 'drop_rate': 3.0118659882617117e-07, 'skip_drop': 0.5710537951126793}. Best is trial 0 with value: 0.9619485208278313.\u001b[0m\n"
     ]
    },
    {
     "name": "stdout",
     "output_type": "stream",
     "text": [
      "Trained models saved in ./models/ \n"
     ]
    }
   ],
   "source": [
    "# What's the solution? Simple!\n",
    "# We should use the inputs (trial and p)\n",
    "\n",
    "# I believe the solution is below!\n",
    "# Why are we getting an error then? The error is not about lambda but is about tuning.tune itself.\n",
    "# However, I didn't write the tuning.tune function, so I don't know what it does. So if you can fix the function,\n",
    "# I believe everything will be alright.\n",
    "\n",
    "trial = 5\n",
    "\n",
    "for p in pipes:\n",
    "    my_pipe, my_study = tuning.tune(n_trials=trial, \n",
    "                                objective_function=lambda_objective[0], \n",
    "                                output_folder='./', \n",
    "                                study_name='test', \n",
    "                                random_state=42)\n"
   ]
  },
  {
   "cell_type": "code",
   "execution_count": null,
   "id": "5e14af63",
   "metadata": {},
   "outputs": [],
   "source": [
    "# Make sure the following line is working to fix the above error!\n",
    "\n",
    "lambda_objective(trial=5, p=dp.lgbm_pipeline)"
   ]
  },
  {
   "cell_type": "code",
   "execution_count": null,
   "id": "25f366c7",
   "metadata": {},
   "outputs": [],
   "source": [
    "# You are not convinced! or you are skeptical!\n",
    "# Then let's get back to basics!\n",
    "\n",
    "square = lambda x:x*x"
   ]
  },
  {
   "cell_type": "code",
   "execution_count": null,
   "id": "b2704734",
   "metadata": {},
   "outputs": [],
   "source": [
    "# Let's check what square is!\n",
    "\n",
    "square \n",
    "\n",
    "# It's a lambda function!"
   ]
  },
  {
   "cell_type": "code",
   "execution_count": null,
   "id": "0ffc3f21",
   "metadata": {},
   "outputs": [],
   "source": [
    "# However, square(x) is the right way of using the function!\n",
    "\n",
    "[square(x) for x in range(15)]\n",
    "\n",
    "# If you don't like list compherensions, for loop version below\n",
    "#for x in range(15):\n",
    "#    print(square(x))"
   ]
  },
  {
   "cell_type": "code",
   "execution_count": null,
   "id": "b6b49325",
   "metadata": {},
   "outputs": [],
   "source": [
    "# Let's do list compherension for lambda_objective and see if we can use it to fix the error!\n",
    "# The answer is NO in this cell!\n",
    "\n",
    "pipes = [dp.lgbm_pipeline, dp.random_forest_pipeline]\n",
    "\n",
    "lambda_objective = [lambda trial, p: tuning.objective(trial, \n",
    "                                                  pipeline=p,\n",
    "                                                  X_train=X_train, \n",
    "                                                  y_train=y_train, \n",
    "                                                  cross_validator=5,\n",
    "                                                  groups=None,\n",
    "                                                  scoring_metric='f1_macro') for p in pipes]\n",
    "\n",
    "lambda_objective\n",
    "\n",
    "# lambda_objective is a list of lambda functions with size 2.\n",
    "# In this way, we cannot give it as an input to the objective_function."
   ]
  },
  {
   "cell_type": "code",
   "execution_count": null,
   "id": "988c6420",
   "metadata": {},
   "outputs": [],
   "source": [
    "lambda_objective[0]"
   ]
  },
  {
   "cell_type": "code",
   "execution_count": 6,
   "id": "63898614",
   "metadata": {},
   "outputs": [
    {
     "ename": "TypeError",
     "evalue": "'function' object is not subscriptable",
     "output_type": "error",
     "traceback": [
      "\u001b[0;31m---------------------------------------------------------------------------\u001b[0m",
      "\u001b[0;31mTypeError\u001b[0m                                 Traceback (most recent call last)",
      "\u001b[0;32m/tmp/ipykernel_12/3437373310.py\u001b[0m in \u001b[0;36m<module>\u001b[0;34m\u001b[0m\n\u001b[0;32m----> 1\u001b[0;31m \u001b[0mlambda_objective\u001b[0m\u001b[0;34m[\u001b[0m\u001b[0;36m1\u001b[0m\u001b[0;34m]\u001b[0m\u001b[0;34m\u001b[0m\u001b[0;34m\u001b[0m\u001b[0m\n\u001b[0m",
      "\u001b[0;31mTypeError\u001b[0m: 'function' object is not subscriptable"
     ]
    }
   ],
   "source": [
    "lambda_objective[1]"
   ]
  },
  {
   "cell_type": "markdown",
   "id": "b26ec94c",
   "metadata": {},
   "source": [
    "### How can we get the pipeline objects using list comprehensions?"
   ]
  },
  {
   "cell_type": "code",
   "execution_count": 28,
   "id": "cf0fd795",
   "metadata": {},
   "outputs": [
    {
     "data": {
      "text/plain": [
       "[<function __main__.<listcomp>.<lambda>(trial, p=Pipeline(steps=[('pre',\n",
       "                 ColumnTransformer(transformers=[('numerical_transfo',\n",
       "                                                  Pipeline(steps=[('scaler',\n",
       "                                                                   StandardScaler())]),\n",
       "                                                  <sklearn.compose._column_transformer.make_column_selector object at 0x7fe6b4065850>),\n",
       "                                                 ('categorical_transfo',\n",
       "                                                  Pipeline(steps=[('encoder',\n",
       "                                                                   OneHotEncoder(handle_unknown='ignore'))]),\n",
       "                                                  <sklearn.compose._column_transformer.make_column_selector object at 0x7fe6b40657d0>)])),\n",
       "                ('imb', SMOTEENN(random_state=42)),\n",
       "                ('clf', LGBMClassifier(objective='binary', random_state=42))]))>,\n",
       " <function __main__.<listcomp>.<lambda>(trial, p=Pipeline(steps=[('pre',\n",
       "                 ColumnTransformer(transformers=[('numerical_transfo',\n",
       "                                                  Pipeline(steps=[('scaler',\n",
       "                                                                   StandardScaler())]),\n",
       "                                                  <sklearn.compose._column_transformer.make_column_selector object at 0x7fe6b4065850>),\n",
       "                                                 ('categorical_transfo',\n",
       "                                                  Pipeline(steps=[('encoder',\n",
       "                                                                   OneHotEncoder(handle_unknown='ignore'))]),\n",
       "                                                  <sklearn.compose._column_transformer.make_column_selector object at 0x7fe6b40657d0>)])),\n",
       "                ('imb', SMOTEENN(random_state=42)),\n",
       "                ('clf', RandomForestClassifier(random_state=42))]))>]"
      ]
     },
     "execution_count": 28,
     "metadata": {},
     "output_type": "execute_result"
    }
   ],
   "source": [
    "# Be aware that I use p=p in the list compeherension to get the pipeline objects!\n",
    "# p=p basically tells the lambda function to use the elements of the for loop \n",
    "# This is critical \n",
    "# This is due to the point at which p is being bound. \n",
    "# The lambda functions all point at the variable p rather than the current value of it, \n",
    "# so when we update p in the next iteration, this update is seen across all our functions.\n",
    "\n",
    "pipes = [dp.lgbm_pipeline, dp.random_forest_pipeline]\n",
    "\n",
    "lambda_objective = [lambda trial, p=p: tuning.objective(trial, \n",
    "                                                  pipeline=p,\n",
    "                                                  X_train=X_train, \n",
    "                                                  y_train=y_train, \n",
    "                                                  cross_validator=5,\n",
    "                                                  groups=None,\n",
    "                                                  scoring_metric='f1_macro') for p in pipes]\n",
    "\n",
    "lambda_objective\n",
    "\n",
    "# lambda_objective is a list of lambda functions with size 2.\n",
    "# In this way, we cannot give it as an input to the objective_function."
   ]
  },
  {
   "cell_type": "code",
   "execution_count": 8,
   "id": "472b3496",
   "metadata": {},
   "outputs": [
    {
     "data": {
      "text/plain": [
       "<function __main__.<listcomp>.<lambda>(trial, p=Pipeline(steps=[('pre',\n",
       "                 ColumnTransformer(transformers=[('numerical_transfo',\n",
       "                                                  Pipeline(steps=[('scaler',\n",
       "                                                                   StandardScaler())]),\n",
       "                                                  <sklearn.compose._column_transformer.make_column_selector object at 0x7fe6b4065850>),\n",
       "                                                 ('categorical_transfo',\n",
       "                                                  Pipeline(steps=[('encoder',\n",
       "                                                                   OneHotEncoder(handle_unknown='ignore'))]),\n",
       "                                                  <sklearn.compose._column_transformer.make_column_selector object at 0x7fe6b40657d0>)])),\n",
       "                ('imb', SMOTEENN(random_state=42)),\n",
       "                ('clf', LGBMClassifier(objective='binary', random_state=42))]))>"
      ]
     },
     "execution_count": 8,
     "metadata": {},
     "output_type": "execute_result"
    }
   ],
   "source": [
    "lambda_objective[0]"
   ]
  },
  {
   "cell_type": "code",
   "execution_count": 9,
   "id": "8bd59276",
   "metadata": {},
   "outputs": [
    {
     "data": {
      "text/plain": [
       "<function __main__.<listcomp>.<lambda>(trial, p=Pipeline(steps=[('pre',\n",
       "                 ColumnTransformer(transformers=[('numerical_transfo',\n",
       "                                                  Pipeline(steps=[('scaler',\n",
       "                                                                   StandardScaler())]),\n",
       "                                                  <sklearn.compose._column_transformer.make_column_selector object at 0x7fe6b4065850>),\n",
       "                                                 ('categorical_transfo',\n",
       "                                                  Pipeline(steps=[('encoder',\n",
       "                                                                   OneHotEncoder(handle_unknown='ignore'))]),\n",
       "                                                  <sklearn.compose._column_transformer.make_column_selector object at 0x7fe6b40657d0>)])),\n",
       "                ('imb', SMOTEENN(random_state=42)),\n",
       "                ('clf', RandomForestClassifier(random_state=42))]))>"
      ]
     },
     "execution_count": 9,
     "metadata": {},
     "output_type": "execute_result"
    }
   ],
   "source": [
    "lambda_objective[1]"
   ]
  },
  {
   "cell_type": "code",
   "execution_count": 31,
   "id": "9c783d52",
   "metadata": {},
   "outputs": [
    {
     "name": "stdout",
     "output_type": "stream",
     "text": [
      "<function <listcomp>.<lambda> at 0x7fe69eb8a200>\n",
      "<function <listcomp>.<lambda> at 0x7fe69eb8a3b0>\n"
     ]
    }
   ],
   "source": [
    "# However, the type of the elements of lambda_objective is still lambda functions!\n",
    "\n",
    "for objective in lambda_objective:\n",
    "    print(objective)"
   ]
  },
  {
   "cell_type": "code",
   "execution_count": 32,
   "id": "5f362cce",
   "metadata": {},
   "outputs": [
    {
     "name": "stderr",
     "output_type": "stream",
     "text": [
      "\u001b[32m[I 2022-09-21 03:19:30,611]\u001b[0m A new study created in memory with name: no-name-b8b1e6ac-86bc-4d0e-8a37-49a5e12e93fc\u001b[0m\n",
      "\u001b[32m[I 2022-09-21 03:19:30,614]\u001b[0m Trial 0 finished with value: 4.288047839773288 and parameters: {'x': 4.070760208177974}. Best is trial 0 with value: 4.288047839773288.\u001b[0m\n",
      "\u001b[32m[I 2022-09-21 03:19:30,616]\u001b[0m Trial 1 finished with value: 54.26830521337402 and parameters: {'x': 9.366702465375809}. Best is trial 0 with value: 4.288047839773288.\u001b[0m\n",
      "\u001b[32m[I 2022-09-21 03:19:30,618]\u001b[0m Trial 2 finished with value: 33.47166359270158 and parameters: {'x': 7.7854700407746975}. Best is trial 0 with value: 4.288047839773288.\u001b[0m\n",
      "\u001b[32m[I 2022-09-21 03:19:30,620]\u001b[0m Trial 3 finished with value: 1.7473198187228347 and parameters: {'x': 0.6781377459346096}. Best is trial 3 with value: 1.7473198187228347.\u001b[0m\n",
      "\u001b[32m[I 2022-09-21 03:19:30,621]\u001b[0m Trial 4 finished with value: 0.11935255432583033 and parameters: {'x': 2.345474390260451}. Best is trial 4 with value: 0.11935255432583033.\u001b[0m\n",
      "\u001b[32m[I 2022-09-21 03:19:30,623]\u001b[0m Trial 5 finished with value: 18.250986448383642 and parameters: {'x': 6.272117326149136}. Best is trial 4 with value: 0.11935255432583033.\u001b[0m\n",
      "\u001b[32m[I 2022-09-21 03:19:30,625]\u001b[0m Trial 6 finished with value: 7.762027265585148 and parameters: {'x': 4.7860415046415135}. Best is trial 4 with value: 0.11935255432583033.\u001b[0m\n",
      "\u001b[32m[I 2022-09-21 03:19:30,626]\u001b[0m Trial 7 finished with value: 50.121923629300234 and parameters: {'x': 9.079683865067722}. Best is trial 4 with value: 0.11935255432583033.\u001b[0m\n",
      "\u001b[32m[I 2022-09-21 03:19:30,628]\u001b[0m Trial 8 finished with value: 46.98711403306092 and parameters: {'x': 8.854714730246688}. Best is trial 4 with value: 0.11935255432583033.\u001b[0m\n",
      "\u001b[32m[I 2022-09-21 03:19:30,630]\u001b[0m Trial 9 finished with value: 6.813921816426946 and parameters: {'x': -0.610348983647004}. Best is trial 4 with value: 0.11935255432583033.\u001b[0m\n",
      "\u001b[32m[I 2022-09-21 03:19:30,637]\u001b[0m Trial 10 finished with value: 96.5563106976457 and parameters: {'x': -7.826307073241997}. Best is trial 4 with value: 0.11935255432583033.\u001b[0m\n",
      "\u001b[32m[I 2022-09-21 03:19:30,645]\u001b[0m Trial 11 finished with value: 4.388701306966742 and parameters: {'x': -0.09492274486835013}. Best is trial 4 with value: 0.11935255432583033.\u001b[0m\n",
      "\u001b[32m[I 2022-09-21 03:19:30,651]\u001b[0m Trial 12 finished with value: 35.473603441882155 and parameters: {'x': -3.955972082026758}. Best is trial 4 with value: 0.11935255432583033.\u001b[0m\n",
      "\u001b[32m[I 2022-09-21 03:19:30,659]\u001b[0m Trial 13 finished with value: 0.11463688560764103 and parameters: {'x': 2.3385806929044257}. Best is trial 13 with value: 0.11463688560764103.\u001b[0m\n",
      "\u001b[32m[I 2022-09-21 03:19:30,666]\u001b[0m Trial 14 finished with value: 0.27505733152767153 and parameters: {'x': 2.5244590847031554}. Best is trial 13 with value: 0.11463688560764103.\u001b[0m\n",
      "\u001b[32m[I 2022-09-21 03:19:30,672]\u001b[0m Trial 15 finished with value: 30.313660564020847 and parameters: {'x': -3.505784282372571}. Best is trial 13 with value: 0.11463688560764103.\u001b[0m\n",
      "\u001b[32m[I 2022-09-21 03:19:30,678]\u001b[0m Trial 16 finished with value: 0.3098295908245223 and parameters: {'x': 2.5566233832893857}. Best is trial 13 with value: 0.11463688560764103.\u001b[0m\n",
      "\u001b[32m[I 2022-09-21 03:19:30,686]\u001b[0m Trial 17 finished with value: 22.21867736792596 and parameters: {'x': -2.713669204338162}. Best is trial 13 with value: 0.11463688560764103.\u001b[0m\n",
      "\u001b[32m[I 2022-09-21 03:19:30,692]\u001b[0m Trial 18 finished with value: 91.10596856688964 and parameters: {'x': -7.544944660231908}. Best is trial 13 with value: 0.11463688560764103.\u001b[0m\n",
      "\u001b[32m[I 2022-09-21 03:19:30,699]\u001b[0m Trial 19 finished with value: 0.0009931061735331127 and parameters: {'x': 2.031513587125764}. Best is trial 19 with value: 0.0009931061735331127.\u001b[0m\n",
      "\u001b[32m[I 2022-09-21 03:19:30,706]\u001b[0m Trial 20 finished with value: 15.292550320721789 and parameters: {'x': 5.910569053312035}. Best is trial 19 with value: 0.0009931061735331127.\u001b[0m\n",
      "\u001b[32m[I 2022-09-21 03:19:30,713]\u001b[0m Trial 21 finished with value: 0.09695669732406996 and parameters: {'x': 2.311378704031072}. Best is trial 19 with value: 0.0009931061735331127.\u001b[0m\n",
      "\u001b[32m[I 2022-09-21 03:19:30,721]\u001b[0m Trial 22 finished with value: 12.919822950512753 and parameters: {'x': -1.594415522795431}. Best is trial 19 with value: 0.0009931061735331127.\u001b[0m\n",
      "\u001b[32m[I 2022-09-21 03:19:30,728]\u001b[0m Trial 23 finished with value: 0.1435044491471082 and parameters: {'x': 1.6211801890778306}. Best is trial 19 with value: 0.0009931061735331127.\u001b[0m\n",
      "\u001b[32m[I 2022-09-21 03:19:30,737]\u001b[0m Trial 24 finished with value: 5.553614571581541 and parameters: {'x': 4.356610823106255}. Best is trial 19 with value: 0.0009931061735331127.\u001b[0m\n",
      "\u001b[32m[I 2022-09-21 03:19:30,743]\u001b[0m Trial 25 finished with value: 2.2079183048082065 and parameters: {'x': 3.48590655991829}. Best is trial 19 with value: 0.0009931061735331127.\u001b[0m\n",
      "\u001b[32m[I 2022-09-21 03:19:30,749]\u001b[0m Trial 26 finished with value: 48.18776525396764 and parameters: {'x': -4.941740794207721}. Best is trial 19 with value: 0.0009931061735331127.\u001b[0m\n",
      "\u001b[32m[I 2022-09-21 03:19:30,756]\u001b[0m Trial 27 finished with value: 1.2161610717904927 and parameters: {'x': 0.8972030686520329}. Best is trial 19 with value: 0.0009931061735331127.\u001b[0m\n",
      "\u001b[32m[I 2022-09-21 03:19:30,764]\u001b[0m Trial 28 finished with value: 21.54594877958541 and parameters: {'x': 6.641761387618434}. Best is trial 19 with value: 0.0009931061735331127.\u001b[0m\n",
      "\u001b[32m[I 2022-09-21 03:19:30,771]\u001b[0m Trial 29 finished with value: 10.627295534563801 and parameters: {'x': -1.2599533025127525}. Best is trial 19 with value: 0.0009931061735331127.\u001b[0m\n",
      "\u001b[32m[I 2022-09-21 03:19:30,778]\u001b[0m Trial 30 finished with value: 9.04074092750234 and parameters: {'x': 5.0067824875608045}. Best is trial 19 with value: 0.0009931061735331127.\u001b[0m\n",
      "\u001b[32m[I 2022-09-21 03:19:30,785]\u001b[0m Trial 31 finished with value: 0.7227688618371261 and parameters: {'x': 2.850158139311226}. Best is trial 19 with value: 0.0009931061735331127.\u001b[0m\n",
      "\u001b[32m[I 2022-09-21 03:19:30,793]\u001b[0m Trial 32 finished with value: 0.0946696688744352 and parameters: {'x': 1.6923156343353871}. Best is trial 19 with value: 0.0009931061735331127.\u001b[0m\n",
      "\u001b[32m[I 2022-09-21 03:19:30,800]\u001b[0m Trial 33 finished with value: 0.5873966090796107 and parameters: {'x': 1.233581961929646}. Best is trial 19 with value: 0.0009931061735331127.\u001b[0m\n",
      "\u001b[32m[I 2022-09-21 03:19:30,807]\u001b[0m Trial 34 finished with value: 3.3791384619406983 and parameters: {'x': 3.838243308689222}. Best is trial 19 with value: 0.0009931061735331127.\u001b[0m\n",
      "\u001b[32m[I 2022-09-21 03:19:30,815]\u001b[0m Trial 35 finished with value: 4.217603764843076 and parameters: {'x': -0.05368054108789666}. Best is trial 19 with value: 0.0009931061735331127.\u001b[0m\n",
      "\u001b[32m[I 2022-09-21 03:19:30,824]\u001b[0m Trial 36 finished with value: 0.21538534340043577 and parameters: {'x': 1.5359037347699986}. Best is trial 19 with value: 0.0009931061735331127.\u001b[0m\n",
      "\u001b[32m[I 2022-09-21 03:19:30,832]\u001b[0m Trial 37 finished with value: 32.562515773439706 and parameters: {'x': 7.706357487350377}. Best is trial 19 with value: 0.0009931061735331127.\u001b[0m\n",
      "\u001b[32m[I 2022-09-21 03:19:30,840]\u001b[0m Trial 38 finished with value: 12.072747699478485 and parameters: {'x': 5.4745859752607196}. Best is trial 19 with value: 0.0009931061735331127.\u001b[0m\n",
      "\u001b[32m[I 2022-09-21 03:19:30,848]\u001b[0m Trial 39 finished with value: 143.80760470445912 and parameters: {'x': -9.991980849903786}. Best is trial 19 with value: 0.0009931061735331127.\u001b[0m\n",
      "\u001b[32m[I 2022-09-21 03:19:30,854]\u001b[0m Trial 40 finished with value: 1.72788397333546 and parameters: {'x': 3.314490005034447}. Best is trial 19 with value: 0.0009931061735331127.\u001b[0m\n",
      "\u001b[32m[I 2022-09-21 03:19:30,862]\u001b[0m Trial 41 finished with value: 0.02509191809939083 and parameters: {'x': 2.1584042868718862}. Best is trial 19 with value: 0.0009931061735331127.\u001b[0m\n",
      "\u001b[32m[I 2022-09-21 03:19:30,871]\u001b[0m Trial 42 finished with value: 0.009065613255955784 and parameters: {'x': 1.9047864859594197}. Best is trial 19 with value: 0.0009931061735331127.\u001b[0m\n",
      "\u001b[32m[I 2022-09-21 03:19:30,880]\u001b[0m Trial 43 finished with value: 2.099717323883565 and parameters: {'x': 0.550959861189634}. Best is trial 19 with value: 0.0009931061735331127.\u001b[0m\n",
      "\u001b[32m[I 2022-09-21 03:19:30,888]\u001b[0m Trial 44 finished with value: 9.295957476377083 and parameters: {'x': -1.0489272664950673}. Best is trial 19 with value: 0.0009931061735331127.\u001b[0m\n"
     ]
    },
    {
     "name": "stderr",
     "output_type": "stream",
     "text": [
      "\u001b[32m[I 2022-09-21 03:19:30,895]\u001b[0m Trial 45 finished with value: 0.0068198445955180735 and parameters: {'x': 1.9174176496125348}. Best is trial 19 with value: 0.0009931061735331127.\u001b[0m\n",
      "\u001b[32m[I 2022-09-21 03:19:30,902]\u001b[0m Trial 46 finished with value: 15.50671845920266 and parameters: {'x': -1.937857089738359}. Best is trial 19 with value: 0.0009931061735331127.\u001b[0m\n",
      "\u001b[32m[I 2022-09-21 03:19:30,909]\u001b[0m Trial 47 finished with value: 2.540177887500765 and parameters: {'x': 0.4062064476536602}. Best is trial 19 with value: 0.0009931061735331127.\u001b[0m\n",
      "\u001b[32m[I 2022-09-21 03:19:30,916]\u001b[0m Trial 48 finished with value: 5.064108820328304 and parameters: {'x': 4.250357487229152}. Best is trial 19 with value: 0.0009931061735331127.\u001b[0m\n",
      "\u001b[32m[I 2022-09-21 03:19:30,923]\u001b[0m Trial 49 finished with value: 5.697789302359646 and parameters: {'x': -0.38700425268989536}. Best is trial 19 with value: 0.0009931061735331127.\u001b[0m\n",
      "\u001b[32m[I 2022-09-21 03:19:30,930]\u001b[0m Trial 50 finished with value: 0.004453350047398475 and parameters: {'x': 1.933266574736505}. Best is trial 19 with value: 0.0009931061735331127.\u001b[0m\n",
      "\u001b[32m[I 2022-09-21 03:19:30,937]\u001b[0m Trial 51 finished with value: 0.5414756230609497 and parameters: {'x': 1.2641497278243694}. Best is trial 19 with value: 0.0009931061735331127.\u001b[0m\n",
      "\u001b[32m[I 2022-09-21 03:19:30,944]\u001b[0m Trial 52 finished with value: 8.52220606789466e-05 and parameters: {'x': 1.9907684204667377}. Best is trial 52 with value: 8.52220606789466e-05.\u001b[0m\n",
      "\u001b[32m[I 2022-09-21 03:19:30,953]\u001b[0m Trial 53 finished with value: 0.9486963073614674 and parameters: {'x': 2.9740104246677586}. Best is trial 52 with value: 8.52220606789466e-05.\u001b[0m\n",
      "\u001b[32m[I 2022-09-21 03:19:30,960]\u001b[0m Trial 54 finished with value: 0.1089796253993251 and parameters: {'x': 2.3301206224992996}. Best is trial 52 with value: 8.52220606789466e-05.\u001b[0m\n",
      "\u001b[32m[I 2022-09-21 03:19:30,970]\u001b[0m Trial 55 finished with value: 2.9035558867898112 and parameters: {'x': 3.7039823610559504}. Best is trial 52 with value: 8.52220606789466e-05.\u001b[0m\n",
      "\u001b[32m[I 2022-09-21 03:19:30,976]\u001b[0m Trial 56 finished with value: 8.341978479634562 and parameters: {'x': 4.888248341059779}. Best is trial 52 with value: 8.52220606789466e-05.\u001b[0m\n",
      "\u001b[32m[I 2022-09-21 03:19:30,984]\u001b[0m Trial 57 finished with value: 0.01836659619042639 and parameters: {'x': 1.8644765843463706}. Best is trial 52 with value: 8.52220606789466e-05.\u001b[0m\n",
      "\u001b[32m[I 2022-09-21 03:19:30,992]\u001b[0m Trial 58 finished with value: 2.6276476985077233 and parameters: {'x': 0.37899793383607205}. Best is trial 52 with value: 8.52220606789466e-05.\u001b[0m\n",
      "\u001b[32m[I 2022-09-21 03:19:31,001]\u001b[0m Trial 59 finished with value: 62.720280554329236 and parameters: {'x': 9.919613661936372}. Best is trial 52 with value: 8.52220606789466e-05.\u001b[0m\n",
      "\u001b[32m[I 2022-09-21 03:19:31,007]\u001b[0m Trial 60 finished with value: 17.351572164410918 and parameters: {'x': -2.165521835786114}. Best is trial 52 with value: 8.52220606789466e-05.\u001b[0m\n",
      "\u001b[32m[I 2022-09-21 03:19:31,015]\u001b[0m Trial 61 finished with value: 7.868936194596691e-05 and parameters: {'x': 1.99112929755059}. Best is trial 61 with value: 7.868936194596691e-05.\u001b[0m\n",
      "\u001b[32m[I 2022-09-21 03:19:31,022]\u001b[0m Trial 62 finished with value: 6.499858513820536 and parameters: {'x': -0.5494820089227022}. Best is trial 61 with value: 7.868936194596691e-05.\u001b[0m\n",
      "\u001b[32m[I 2022-09-21 03:19:31,030]\u001b[0m Trial 63 finished with value: 0.07145375603654623 and parameters: {'x': 1.7326916461527133}. Best is trial 61 with value: 7.868936194596691e-05.\u001b[0m\n",
      "\u001b[32m[I 2022-09-21 03:19:31,039]\u001b[0m Trial 64 finished with value: 0.9986059837741831 and parameters: {'x': 2.999302748807479}. Best is trial 61 with value: 7.868936194596691e-05.\u001b[0m\n",
      "\u001b[32m[I 2022-09-21 03:19:31,046]\u001b[0m Trial 65 finished with value: 1.378852732742121 and parameters: {'x': 0.8257543984574092}. Best is trial 61 with value: 7.868936194596691e-05.\u001b[0m\n",
      "\u001b[32m[I 2022-09-21 03:19:31,053]\u001b[0m Trial 66 finished with value: 8.641370804090746e-06 and parameters: {'x': 1.9970603791393973}. Best is trial 66 with value: 8.641370804090746e-06.\u001b[0m\n",
      "\u001b[32m[I 2022-09-21 03:19:31,060]\u001b[0m Trial 67 finished with value: 6.5020477552578155 and parameters: {'x': 4.549911323018472}. Best is trial 66 with value: 8.641370804090746e-06.\u001b[0m\n",
      "\u001b[32m[I 2022-09-21 03:19:31,067]\u001b[0m Trial 68 finished with value: 2.1740770160091043 and parameters: {'x': 3.4744751662910787}. Best is trial 66 with value: 8.641370804090746e-06.\u001b[0m\n",
      "\u001b[32m[I 2022-09-21 03:19:31,074]\u001b[0m Trial 69 finished with value: 0.9633954407027739 and parameters: {'x': 1.0184729037348108}. Best is trial 66 with value: 8.641370804090746e-06.\u001b[0m\n",
      "\u001b[32m[I 2022-09-21 03:19:31,083]\u001b[0m Trial 70 finished with value: 21.406183555798215 and parameters: {'x': 6.626681700289984}. Best is trial 66 with value: 8.641370804090746e-06.\u001b[0m\n",
      "\u001b[32m[I 2022-09-21 03:19:31,092]\u001b[0m Trial 71 finished with value: 0.006415886712549537 and parameters: {'x': 2.0800992304117183}. Best is trial 66 with value: 8.641370804090746e-06.\u001b[0m\n",
      "\u001b[32m[I 2022-09-21 03:19:31,099]\u001b[0m Trial 72 finished with value: 0.644344974777376 and parameters: {'x': 2.8027110157319233}. Best is trial 66 with value: 8.641370804090746e-06.\u001b[0m\n",
      "\u001b[32m[I 2022-09-21 03:19:31,107]\u001b[0m Trial 73 finished with value: 3.6767729762499064 and parameters: {'x': 0.08250867635602943}. Best is trial 66 with value: 8.641370804090746e-06.\u001b[0m\n",
      "\u001b[32m[I 2022-09-21 03:19:31,116]\u001b[0m Trial 74 finished with value: 0.016705896905638482 and parameters: {'x': 2.1292512936323598}. Best is trial 66 with value: 8.641370804090746e-06.\u001b[0m\n",
      "\u001b[32m[I 2022-09-21 03:19:31,124]\u001b[0m Trial 75 finished with value: 4.486929965795795 and parameters: {'x': 4.118237466809563}. Best is trial 66 with value: 8.641370804090746e-06.\u001b[0m\n",
      "\u001b[32m[I 2022-09-21 03:19:31,131]\u001b[0m Trial 76 finished with value: 0.43671331505623223 and parameters: {'x': 2.660842882277045}. Best is trial 66 with value: 8.641370804090746e-06.\u001b[0m\n",
      "\u001b[32m[I 2022-09-21 03:19:31,137]\u001b[0m Trial 77 finished with value: 0.5544814675913725 and parameters: {'x': 1.2553648762035379}. Best is trial 66 with value: 8.641370804090746e-06.\u001b[0m\n",
      "\u001b[32m[I 2022-09-21 03:19:31,144]\u001b[0m Trial 78 finished with value: 9.497414313152492 and parameters: {'x': -1.0817875191441233}. Best is trial 66 with value: 8.641370804090746e-06.\u001b[0m\n",
      "\u001b[32m[I 2022-09-21 03:19:31,150]\u001b[0m Trial 79 finished with value: 2.1117750844802186 and parameters: {'x': 3.453194785457276}. Best is trial 66 with value: 8.641370804090746e-06.\u001b[0m\n",
      "\u001b[32m[I 2022-09-21 03:19:31,158]\u001b[0m Trial 80 finished with value: 0.00577017670855255 and parameters: {'x': 2.0759616792109847}. Best is trial 66 with value: 8.641370804090746e-06.\u001b[0m\n",
      "\u001b[32m[I 2022-09-21 03:19:31,167]\u001b[0m Trial 81 finished with value: 0.0029103284759061207 and parameters: {'x': 1.9460525396713977}. Best is trial 66 with value: 8.641370804090746e-06.\u001b[0m\n",
      "\u001b[32m[I 2022-09-21 03:19:31,176]\u001b[0m Trial 82 finished with value: 0.14818351478015737 and parameters: {'x': 2.384946119320818}. Best is trial 66 with value: 8.641370804090746e-06.\u001b[0m\n",
      "\u001b[32m[I 2022-09-21 03:19:31,184]\u001b[0m Trial 83 finished with value: 1.7899427896830653 and parameters: {'x': 0.6621125646441457}. Best is trial 66 with value: 8.641370804090746e-06.\u001b[0m\n",
      "\u001b[32m[I 2022-09-21 03:19:31,193]\u001b[0m Trial 84 finished with value: 0.2788408647662874 and parameters: {'x': 1.471946153535184}. Best is trial 66 with value: 8.641370804090746e-06.\u001b[0m\n",
      "\u001b[32m[I 2022-09-21 03:19:31,199]\u001b[0m Trial 85 finished with value: 4.268798789618548 and parameters: {'x': -0.0661071583096915}. Best is trial 66 with value: 8.641370804090746e-06.\u001b[0m\n",
      "\u001b[32m[I 2022-09-21 03:19:31,208]\u001b[0m Trial 86 finished with value: 11.484037417923286 and parameters: {'x': 5.388810619955516}. Best is trial 66 with value: 8.641370804090746e-06.\u001b[0m\n",
      "\u001b[32m[I 2022-09-21 03:19:31,216]\u001b[0m Trial 87 finished with value: 0.7914537343700183 and parameters: {'x': 2.889636855334815}. Best is trial 66 with value: 8.641370804090746e-06.\u001b[0m\n",
      "\u001b[32m[I 2022-09-21 03:19:31,225]\u001b[0m Trial 88 finished with value: 0.0023851278919154897 and parameters: {'x': 1.951162228839601}. Best is trial 66 with value: 8.641370804090746e-06.\u001b[0m\n",
      "\u001b[32m[I 2022-09-21 03:19:31,234]\u001b[0m Trial 89 finished with value: 0.8441841839907603 and parameters: {'x': 1.081205037023624}. Best is trial 66 with value: 8.641370804090746e-06.\u001b[0m\n"
     ]
    },
    {
     "name": "stderr",
     "output_type": "stream",
     "text": [
      "\u001b[32m[I 2022-09-21 03:19:31,241]\u001b[0m Trial 90 finished with value: 3.2675330128089173 and parameters: {'x': 3.807631879783303}. Best is trial 66 with value: 8.641370804090746e-06.\u001b[0m\n",
      "\u001b[32m[I 2022-09-21 03:19:31,249]\u001b[0m Trial 91 finished with value: 0.0027252974460081265 and parameters: {'x': 2.0522043814828614}. Best is trial 66 with value: 8.641370804090746e-06.\u001b[0m\n",
      "\u001b[32m[I 2022-09-21 03:19:31,258]\u001b[0m Trial 92 finished with value: 1.5427824975632811 and parameters: {'x': 3.2420879588673586}. Best is trial 66 with value: 8.641370804090746e-06.\u001b[0m\n",
      "\u001b[32m[I 2022-09-21 03:19:31,266]\u001b[0m Trial 93 finished with value: 0.2611751880884298 and parameters: {'x': 2.511053018862456}. Best is trial 66 with value: 8.641370804090746e-06.\u001b[0m\n",
      "\u001b[32m[I 2022-09-21 03:19:31,275]\u001b[0m Trial 94 finished with value: 0.25918133016037476 and parameters: {'x': 1.4909014533900389}. Best is trial 66 with value: 8.641370804090746e-06.\u001b[0m\n",
      "\u001b[32m[I 2022-09-21 03:19:31,283]\u001b[0m Trial 95 finished with value: 0.022783048472275105 and parameters: {'x': 2.1509405461507116}. Best is trial 66 with value: 8.641370804090746e-06.\u001b[0m\n",
      "\u001b[32m[I 2022-09-21 03:19:31,289]\u001b[0m Trial 96 finished with value: 2.6771022704004745 and parameters: {'x': 0.36381472002695414}. Best is trial 66 with value: 8.641370804090746e-06.\u001b[0m\n",
      "\u001b[32m[I 2022-09-21 03:19:31,297]\u001b[0m Trial 97 finished with value: 1.28483667630933 and parameters: {'x': 0.8664936364054545}. Best is trial 66 with value: 8.641370804090746e-06.\u001b[0m\n",
      "\u001b[32m[I 2022-09-21 03:19:31,305]\u001b[0m Trial 98 finished with value: 0.010379966040512735 and parameters: {'x': 1.8981178816449484}. Best is trial 66 with value: 8.641370804090746e-06.\u001b[0m\n",
      "\u001b[32m[I 2022-09-21 03:19:31,313]\u001b[0m Trial 99 finished with value: 4.126649295151793 and parameters: {'x': 4.031415588980205}. Best is trial 66 with value: 8.641370804090746e-06.\u001b[0m\n"
     ]
    },
    {
     "data": {
      "text/plain": [
       "{'x': 1.9970603791393973}"
      ]
     },
     "execution_count": 32,
     "metadata": {},
     "output_type": "execute_result"
    }
   ],
   "source": [
    "import optuna\n",
    "\n",
    "def objective(trial):\n",
    "    x = trial.suggest_float('x', -10, 10)\n",
    "    return (x - 2) ** 2\n",
    "\n",
    "study = optuna.create_study()\n",
    "study.optimize(objective, n_trials=100)\n",
    "\n",
    "study.best_params  # E.g. {'x': 2.002108042}"
   ]
  },
  {
   "cell_type": "code",
   "execution_count": 36,
   "id": "b401b3f3",
   "metadata": {},
   "outputs": [
    {
     "data": {
      "text/plain": [
       "FrozenTrial(number=0, values=[4.288047839773288], datetime_start=datetime.datetime(2022, 9, 21, 3, 19, 30, 614076), datetime_complete=datetime.datetime(2022, 9, 21, 3, 19, 30, 614500), params={'x': 4.070760208177974}, distributions={'x': UniformDistribution(high=10.0, low=-10.0)}, user_attrs={}, system_attrs={}, intermediate_values={}, trial_id=0, state=TrialState.COMPLETE, value=None)"
      ]
     },
     "execution_count": 36,
     "metadata": {},
     "output_type": "execute_result"
    }
   ],
   "source": [
    "study.trials[0]"
   ]
  },
  {
   "cell_type": "code",
   "execution_count": 37,
   "id": "48e4b1b1",
   "metadata": {},
   "outputs": [
    {
     "name": "stderr",
     "output_type": "stream",
     "text": [
      "\u001b[32m[I 2022-09-21 03:23:59,017]\u001b[0m A new study created in memory with name: test\u001b[0m\n",
      "\u001b[32m[I 2022-09-21 03:24:01,520]\u001b[0m Trial 0 finished with value: 0.9619485208278313 and parameters: {'clf__bosting_type': 'dart', 'clf__num_leaves': 124, 'clf__min_data': 73, 'clf__max_depth': 5, 'clf__reg_alpha': 0.05808361216819946, 'clf__reg_lambda': 0.8661761457749352, 'clf__learning_rate': 0.19956529392808392, 'drop_rate': 0.004619347374377372, 'skip_drop': 1.4610865886287176e-08}. Best is trial 0 with value: 0.9619485208278313.\u001b[0m\n",
      "\u001b[32m[I 2022-09-21 03:24:01,706]\u001b[0m Trial 1 finished with value: 0.9619485208278313 and parameters: {'clf__bosting_type': 'gbdt', 'clf__num_leaves': 44, 'clf__min_data': 77, 'clf__max_depth': 6, 'clf__reg_alpha': 0.5247564316322378, 'clf__reg_lambda': 0.43194501864211576, 'clf__learning_rate': 0.09776854331372624}. Best is trial 0 with value: 0.9619485208278313.\u001b[0m\n",
      "\u001b[32m[I 2022-09-21 03:24:01,889]\u001b[0m Trial 2 finished with value: 0.9619485208278313 and parameters: {'clf__bosting_type': 'gbdt', 'clf__num_leaves': 79, 'clf__min_data': 118, 'clf__max_depth': 11, 'clf__reg_alpha': 0.19967378215835974, 'clf__reg_lambda': 0.5142344384136116, 'clf__learning_rate': 0.19560708142748476}. Best is trial 0 with value: 0.9619485208278313.\u001b[0m\n",
      "\u001b[32m[I 2022-09-21 03:24:02,079]\u001b[0m Trial 3 finished with value: 0.9619485208278313 and parameters: {'clf__bosting_type': 'dart', 'clf__num_leaves': 22, 'clf__min_data': 193, 'clf__max_depth': 12, 'clf__reg_alpha': 0.8083973481164611, 'clf__reg_lambda': 0.3046137691733707, 'clf__learning_rate': 0.06260977143530197, 'drop_rate': 0.0029775853025212607, 'skip_drop': 3.320625892007924e-05}. Best is trial 0 with value: 0.9619485208278313.\u001b[0m\n",
      "\u001b[32m[I 2022-09-21 03:24:02,266]\u001b[0m Trial 4 finished with value: 0.9619485208278313 and parameters: {'clf__bosting_type': 'dart', 'clf__num_leaves': 183, 'clf__min_data': 89, 'clf__max_depth': 9, 'clf__reg_alpha': 0.31171107608941095, 'clf__reg_lambda': 0.5200680211778108, 'clf__learning_rate': 0.1760679402733934, 'drop_rate': 3.0118659882617117e-07, 'skip_drop': 0.5710537951126793}. Best is trial 0 with value: 0.9619485208278313.\u001b[0m\n",
      "\u001b[32m[I 2022-09-21 03:24:02,280]\u001b[0m A new study created in memory with name: test\u001b[0m\n"
     ]
    },
    {
     "name": "stdout",
     "output_type": "stream",
     "text": [
      "Trained models saved in ./models/ \n"
     ]
    },
    {
     "name": "stderr",
     "output_type": "stream",
     "text": [
      "\u001b[32m[I 2022-09-21 03:24:02,889]\u001b[0m Trial 0 finished with value: 0.9434793996425593 and parameters: {'n_estimators': 250, 'max_features': 'auto', 'max_depth': 32, 'min_samples_split': 3, 'min_samples_leaf': 2, 'bootstrap': False}. Best is trial 0 with value: 0.9434793996425593.\u001b[0m\n",
      "\u001b[32m[I 2022-09-21 03:24:03,499]\u001b[0m Trial 1 finished with value: 0.9434793996425593 and parameters: {'n_estimators': 341, 'max_features': 'auto', 'max_depth': 49, 'min_samples_split': 9, 'min_samples_leaf': 3, 'bootstrap': False}. Best is trial 0 with value: 0.9434793996425593.\u001b[0m\n",
      "\u001b[32m[I 2022-09-21 03:24:04,109]\u001b[0m Trial 2 finished with value: 0.9434793996425593 and parameters: {'n_estimators': 222, 'max_features': 'auto', 'max_depth': 18, 'min_samples_split': 7, 'min_samples_leaf': 2, 'bootstrap': False}. Best is trial 0 with value: 0.9434793996425593.\u001b[0m\n",
      "\u001b[32m[I 2022-09-21 03:24:04,723]\u001b[0m Trial 3 finished with value: 0.9434793996425593 and parameters: {'n_estimators': 282, 'max_features': 'auto', 'max_depth': 28, 'min_samples_split': 7, 'min_samples_leaf': 1, 'bootstrap': True}. Best is trial 0 with value: 0.9434793996425593.\u001b[0m\n",
      "\u001b[32m[I 2022-09-21 03:24:05,337]\u001b[0m Trial 4 finished with value: 0.9434793996425593 and parameters: {'n_estimators': 126, 'max_features': 'sqrt', 'max_depth': 42, 'min_samples_split': 4, 'min_samples_leaf': 1, 'bootstrap': True}. Best is trial 0 with value: 0.9434793996425593.\u001b[0m\n"
     ]
    },
    {
     "name": "stdout",
     "output_type": "stream",
     "text": [
      "Trained models saved in ./models/ \n"
     ]
    }
   ],
   "source": [
    "# Since the type of the elements of lambda_objective is still lambda functions,\n",
    "# The trials will still end with the same value again!\n",
    "# Because as I said at the beginning of this notebook, we need to give the input parameters to fix this bug.\n",
    "\n",
    "for objective in lambda_objective:\n",
    "    my_pipe, my_study = tuning.tune(n_trials=trial, \n",
    "                                objective_function=objective, \n",
    "                                output_folder='./', \n",
    "                                study_name='test', \n",
    "                                random_state=42)"
   ]
  },
  {
   "cell_type": "code",
   "execution_count": 18,
   "id": "0ed5ae45",
   "metadata": {},
   "outputs": [
    {
     "ename": "AttributeError",
     "evalue": "'int' object has no attribute 'suggest_int'",
     "output_type": "error",
     "traceback": [
      "\u001b[0;31m---------------------------------------------------------------------------\u001b[0m",
      "\u001b[0;31mAttributeError\u001b[0m                            Traceback (most recent call last)",
      "\u001b[0;32m/tmp/ipykernel_286/2103296603.py\u001b[0m in \u001b[0;36m<module>\u001b[0;34m\u001b[0m\n\u001b[1;32m      1\u001b[0m \u001b[0;31m# Somehow we should make this work to get the pipeline rather than the lambda function!\u001b[0m\u001b[0;34m\u001b[0m\u001b[0;34m\u001b[0m\u001b[0;34m\u001b[0m\u001b[0m\n\u001b[1;32m      2\u001b[0m \u001b[0;34m\u001b[0m\u001b[0m\n\u001b[0;32m----> 3\u001b[0;31m \u001b[0mobjective\u001b[0m\u001b[0;34m(\u001b[0m\u001b[0mtrial\u001b[0m\u001b[0;34m=\u001b[0m\u001b[0;36m5\u001b[0m\u001b[0;34m,\u001b[0m \u001b[0mp\u001b[0m\u001b[0;34m=\u001b[0m\u001b[0mdp\u001b[0m\u001b[0;34m.\u001b[0m\u001b[0mrandom_forest_pipeline\u001b[0m\u001b[0;34m)\u001b[0m\u001b[0;34m\u001b[0m\u001b[0;34m\u001b[0m\u001b[0m\n\u001b[0m",
      "\u001b[0;32m/tmp/ipykernel_286/1253987491.py\u001b[0m in \u001b[0;36m<lambda>\u001b[0;34m(trial, p)\u001b[0m\n\u001b[1;32m     14\u001b[0m                                                   \u001b[0mcross_validator\u001b[0m\u001b[0;34m=\u001b[0m\u001b[0;36m5\u001b[0m\u001b[0;34m,\u001b[0m\u001b[0;34m\u001b[0m\u001b[0;34m\u001b[0m\u001b[0m\n\u001b[1;32m     15\u001b[0m                                                   \u001b[0mgroups\u001b[0m\u001b[0;34m=\u001b[0m\u001b[0;32mNone\u001b[0m\u001b[0;34m,\u001b[0m\u001b[0;34m\u001b[0m\u001b[0;34m\u001b[0m\u001b[0m\n\u001b[0;32m---> 16\u001b[0;31m                                                   scoring_metric='f1_macro') for p in pipes]\n\u001b[0m\u001b[1;32m     17\u001b[0m \u001b[0;34m\u001b[0m\u001b[0m\n\u001b[1;32m     18\u001b[0m \u001b[0mlambda_objective\u001b[0m\u001b[0;34m\u001b[0m\u001b[0;34m\u001b[0m\u001b[0m\n",
      "\u001b[0;32m~/miniconda3/envs/geods37/lib/python3.7/site-packages/GeoDS-1.1.0-py3.7.egg/GeoDS/supervised/tuning.py\u001b[0m in \u001b[0;36mobjective\u001b[0;34m(trial, pipeline, X_train, y_train, cross_validator, groups, scoring_metric, tune_on)\u001b[0m\n\u001b[1;32m    201\u001b[0m     \"\"\"\n\u001b[1;32m    202\u001b[0m \u001b[0;34m\u001b[0m\u001b[0m\n\u001b[0;32m--> 203\u001b[0;31m     \u001b[0mparams\u001b[0m \u001b[0;34m=\u001b[0m \u001b[0mSuggestor\u001b[0m\u001b[0;34m(\u001b[0m\u001b[0mtrial\u001b[0m\u001b[0;34m,\u001b[0m \u001b[0mpipeline\u001b[0m\u001b[0;34m[\u001b[0m\u001b[0;34m'clf'\u001b[0m\u001b[0;34m]\u001b[0m\u001b[0;34m)\u001b[0m\u001b[0;34m.\u001b[0m\u001b[0mget_params\u001b[0m\u001b[0;34m(\u001b[0m\u001b[0;34m)\u001b[0m\u001b[0;34m\u001b[0m\u001b[0;34m\u001b[0m\u001b[0m\n\u001b[0m\u001b[1;32m    204\u001b[0m \u001b[0;34m\u001b[0m\u001b[0m\n\u001b[1;32m    205\u001b[0m     \u001b[0mpipeline\u001b[0m\u001b[0;34m[\u001b[0m\u001b[0;34m'clf'\u001b[0m\u001b[0;34m]\u001b[0m\u001b[0;34m.\u001b[0m\u001b[0mset_params\u001b[0m\u001b[0;34m(\u001b[0m\u001b[0;34m**\u001b[0m\u001b[0mparams\u001b[0m\u001b[0;34m)\u001b[0m\u001b[0;34m\u001b[0m\u001b[0;34m\u001b[0m\u001b[0m\n",
      "\u001b[0;32m~/miniconda3/envs/geods37/lib/python3.7/site-packages/GeoDS-1.1.0-py3.7.egg/GeoDS/supervised/tuning.py\u001b[0m in \u001b[0;36mget_params\u001b[0;34m(self)\u001b[0m\n\u001b[1;32m    151\u001b[0m             \u001b[0mparameters\u001b[0m \u001b[0;34m=\u001b[0m \u001b[0mself\u001b[0m\u001b[0;34m.\u001b[0m\u001b[0mxgboost_params_func\u001b[0m\u001b[0;34m(\u001b[0m\u001b[0mself\u001b[0m\u001b[0;34m.\u001b[0m\u001b[0mtrial\u001b[0m\u001b[0;34m)\u001b[0m\u001b[0;34m\u001b[0m\u001b[0;34m\u001b[0m\u001b[0m\n\u001b[1;32m    152\u001b[0m         \u001b[0;32mif\u001b[0m \u001b[0mtype\u001b[0m\u001b[0;34m(\u001b[0m\u001b[0mself\u001b[0m\u001b[0;34m.\u001b[0m\u001b[0mclassifier\u001b[0m\u001b[0;34m)\u001b[0m \u001b[0;34m==\u001b[0m \u001b[0mRandomForestClassifier\u001b[0m\u001b[0;34m:\u001b[0m\u001b[0;34m\u001b[0m\u001b[0;34m\u001b[0m\u001b[0m\n\u001b[0;32m--> 153\u001b[0;31m             \u001b[0mparameters\u001b[0m \u001b[0;34m=\u001b[0m \u001b[0mself\u001b[0m\u001b[0;34m.\u001b[0m\u001b[0mrandom_forest_params_func\u001b[0m\u001b[0;34m(\u001b[0m\u001b[0mself\u001b[0m\u001b[0;34m.\u001b[0m\u001b[0mtrial\u001b[0m\u001b[0;34m)\u001b[0m\u001b[0;34m\u001b[0m\u001b[0;34m\u001b[0m\u001b[0m\n\u001b[0m\u001b[1;32m    154\u001b[0m         \u001b[0;32mif\u001b[0m \u001b[0mtype\u001b[0m\u001b[0;34m(\u001b[0m\u001b[0mself\u001b[0m\u001b[0;34m.\u001b[0m\u001b[0mclassifier\u001b[0m\u001b[0;34m)\u001b[0m \u001b[0;34m==\u001b[0m \u001b[0mAdaBoostClassifier\u001b[0m\u001b[0;34m:\u001b[0m\u001b[0;34m\u001b[0m\u001b[0;34m\u001b[0m\u001b[0m\n\u001b[1;32m    155\u001b[0m             \u001b[0mparameters\u001b[0m \u001b[0;34m=\u001b[0m \u001b[0mself\u001b[0m\u001b[0;34m.\u001b[0m\u001b[0madaboost_params_func\u001b[0m\u001b[0;34m(\u001b[0m\u001b[0mself\u001b[0m\u001b[0;34m.\u001b[0m\u001b[0mtrial\u001b[0m\u001b[0;34m)\u001b[0m\u001b[0;34m\u001b[0m\u001b[0;34m\u001b[0m\u001b[0m\n",
      "\u001b[0;32m~/miniconda3/envs/geods37/lib/python3.7/site-packages/GeoDS-1.1.0-py3.7.egg/GeoDS/supervised/tuning.py\u001b[0m in \u001b[0;36mrandom_forest_params\u001b[0;34m(trial)\u001b[0m\n\u001b[1;32m     30\u001b[0m \u001b[0;32mdef\u001b[0m \u001b[0mrandom_forest_params\u001b[0m\u001b[0;34m(\u001b[0m\u001b[0mtrial\u001b[0m\u001b[0;34m)\u001b[0m\u001b[0;34m:\u001b[0m\u001b[0;34m\u001b[0m\u001b[0;34m\u001b[0m\u001b[0m\n\u001b[1;32m     31\u001b[0m     params = {\n\u001b[0;32m---> 32\u001b[0;31m         \u001b[0;34m\"n_estimators\"\u001b[0m\u001b[0;34m:\u001b[0m \u001b[0mtrial\u001b[0m\u001b[0;34m.\u001b[0m\u001b[0msuggest_int\u001b[0m\u001b[0;34m(\u001b[0m\u001b[0;34m\"n_estimators\"\u001b[0m\u001b[0;34m,\u001b[0m \u001b[0;36m100\u001b[0m\u001b[0;34m,\u001b[0m \u001b[0;36m500\u001b[0m\u001b[0;34m)\u001b[0m\u001b[0;34m,\u001b[0m\u001b[0;34m\u001b[0m\u001b[0;34m\u001b[0m\u001b[0m\n\u001b[0m\u001b[1;32m     33\u001b[0m         \u001b[0;34m\"max_features\"\u001b[0m\u001b[0;34m:\u001b[0m \u001b[0mtrial\u001b[0m\u001b[0;34m.\u001b[0m\u001b[0msuggest_categorical\u001b[0m\u001b[0;34m(\u001b[0m\u001b[0;34m\"max_features\"\u001b[0m\u001b[0;34m,\u001b[0m \u001b[0;34m[\u001b[0m\u001b[0;34m\"auto\"\u001b[0m\u001b[0;34m,\u001b[0m \u001b[0;34m\"sqrt\"\u001b[0m\u001b[0;34m]\u001b[0m\u001b[0;34m)\u001b[0m\u001b[0;34m,\u001b[0m\u001b[0;34m\u001b[0m\u001b[0;34m\u001b[0m\u001b[0m\n\u001b[1;32m     34\u001b[0m         \u001b[0;34m\"max_depth\"\u001b[0m\u001b[0;34m:\u001b[0m \u001b[0mtrial\u001b[0m\u001b[0;34m.\u001b[0m\u001b[0msuggest_int\u001b[0m\u001b[0;34m(\u001b[0m\u001b[0;34m\"max_depth\"\u001b[0m\u001b[0;34m,\u001b[0m \u001b[0;36m5\u001b[0m\u001b[0;34m,\u001b[0m \u001b[0;36m50\u001b[0m\u001b[0;34m)\u001b[0m\u001b[0;34m,\u001b[0m\u001b[0;34m\u001b[0m\u001b[0;34m\u001b[0m\u001b[0m\n",
      "\u001b[0;31mAttributeError\u001b[0m: 'int' object has no attribute 'suggest_int'"
     ]
    }
   ],
   "source": [
    "# Somehow we should make this work to get the pipeline rather than the lambda function!\n",
    "\n",
    "objective(trial=5, p=dp.random_forest_pipeline)"
   ]
  },
  {
   "cell_type": "code",
   "execution_count": 35,
   "id": "4e5f4889",
   "metadata": {},
   "outputs": [
    {
     "ename": "ValueError",
     "evalue": "The value of the parameter 'clf__bosting_type' is not found. Please set it at the construction of the FrozenTrial object.",
     "output_type": "error",
     "traceback": [
      "\u001b[0;31m---------------------------------------------------------------------------\u001b[0m",
      "\u001b[0;31mValueError\u001b[0m                                Traceback (most recent call last)",
      "\u001b[0;32m/tmp/ipykernel_12/2228459522.py\u001b[0m in \u001b[0;36m<module>\u001b[0;34m\u001b[0m\n\u001b[1;32m      5\u001b[0m \u001b[0;32mfor\u001b[0m \u001b[0mobjective\u001b[0m \u001b[0;32min\u001b[0m \u001b[0mlambda_objective\u001b[0m\u001b[0;34m:\u001b[0m\u001b[0;34m\u001b[0m\u001b[0;34m\u001b[0m\u001b[0m\n\u001b[1;32m      6\u001b[0m     my_pipe, my_study = tuning.tune(n_trials=trial, \n\u001b[0;32m----> 7\u001b[0;31m                                 \u001b[0mobjective_function\u001b[0m\u001b[0;34m=\u001b[0m\u001b[0mobjective\u001b[0m\u001b[0;34m(\u001b[0m\u001b[0mstudy\u001b[0m\u001b[0;34m.\u001b[0m\u001b[0mtrials\u001b[0m\u001b[0;34m[\u001b[0m\u001b[0;36m0\u001b[0m\u001b[0;34m]\u001b[0m\u001b[0;34m)\u001b[0m\u001b[0;34m,\u001b[0m\u001b[0;34m\u001b[0m\u001b[0;34m\u001b[0m\u001b[0m\n\u001b[0m\u001b[1;32m      8\u001b[0m                                 \u001b[0moutput_folder\u001b[0m\u001b[0;34m=\u001b[0m\u001b[0;34m'./'\u001b[0m\u001b[0;34m,\u001b[0m\u001b[0;34m\u001b[0m\u001b[0;34m\u001b[0m\u001b[0m\n\u001b[1;32m      9\u001b[0m                                 \u001b[0mstudy_name\u001b[0m\u001b[0;34m=\u001b[0m\u001b[0;34m'test'\u001b[0m\u001b[0;34m,\u001b[0m\u001b[0;34m\u001b[0m\u001b[0;34m\u001b[0m\u001b[0m\n",
      "\u001b[0;32m/tmp/ipykernel_12/1253987491.py\u001b[0m in \u001b[0;36m<lambda>\u001b[0;34m(trial, p)\u001b[0m\n\u001b[1;32m     14\u001b[0m                                                   \u001b[0mcross_validator\u001b[0m\u001b[0;34m=\u001b[0m\u001b[0;36m5\u001b[0m\u001b[0;34m,\u001b[0m\u001b[0;34m\u001b[0m\u001b[0;34m\u001b[0m\u001b[0m\n\u001b[1;32m     15\u001b[0m                                                   \u001b[0mgroups\u001b[0m\u001b[0;34m=\u001b[0m\u001b[0;32mNone\u001b[0m\u001b[0;34m,\u001b[0m\u001b[0;34m\u001b[0m\u001b[0;34m\u001b[0m\u001b[0m\n\u001b[0;32m---> 16\u001b[0;31m                                                   scoring_metric='f1_macro') for p in pipes]\n\u001b[0m\u001b[1;32m     17\u001b[0m \u001b[0;34m\u001b[0m\u001b[0m\n\u001b[1;32m     18\u001b[0m \u001b[0mlambda_objective\u001b[0m\u001b[0;34m\u001b[0m\u001b[0;34m\u001b[0m\u001b[0m\n",
      "\u001b[0;32m~/miniconda3/envs/geods37/lib/python3.7/site-packages/GeoDS-1.1.0-py3.7.egg/GeoDS/supervised/tuning.py\u001b[0m in \u001b[0;36mobjective\u001b[0;34m(trial, pipeline, X_train, y_train, cross_validator, groups, scoring_metric, tune_on)\u001b[0m\n\u001b[1;32m    201\u001b[0m     \"\"\"\n\u001b[1;32m    202\u001b[0m \u001b[0;34m\u001b[0m\u001b[0m\n\u001b[0;32m--> 203\u001b[0;31m     \u001b[0mparams\u001b[0m \u001b[0;34m=\u001b[0m \u001b[0mSuggestor\u001b[0m\u001b[0;34m(\u001b[0m\u001b[0mtrial\u001b[0m\u001b[0;34m,\u001b[0m \u001b[0mpipeline\u001b[0m\u001b[0;34m[\u001b[0m\u001b[0;34m'clf'\u001b[0m\u001b[0;34m]\u001b[0m\u001b[0;34m)\u001b[0m\u001b[0;34m.\u001b[0m\u001b[0mget_params\u001b[0m\u001b[0;34m(\u001b[0m\u001b[0;34m)\u001b[0m\u001b[0;34m\u001b[0m\u001b[0;34m\u001b[0m\u001b[0m\n\u001b[0m\u001b[1;32m    204\u001b[0m \u001b[0;34m\u001b[0m\u001b[0m\n\u001b[1;32m    205\u001b[0m     \u001b[0mpipeline\u001b[0m\u001b[0;34m[\u001b[0m\u001b[0;34m'clf'\u001b[0m\u001b[0;34m]\u001b[0m\u001b[0;34m.\u001b[0m\u001b[0mset_params\u001b[0m\u001b[0;34m(\u001b[0m\u001b[0;34m**\u001b[0m\u001b[0mparams\u001b[0m\u001b[0;34m)\u001b[0m\u001b[0;34m\u001b[0m\u001b[0;34m\u001b[0m\u001b[0m\n",
      "\u001b[0;32m~/miniconda3/envs/geods37/lib/python3.7/site-packages/GeoDS-1.1.0-py3.7.egg/GeoDS/supervised/tuning.py\u001b[0m in \u001b[0;36mget_params\u001b[0;34m(self)\u001b[0m\n\u001b[1;32m    155\u001b[0m             \u001b[0mparameters\u001b[0m \u001b[0;34m=\u001b[0m \u001b[0mself\u001b[0m\u001b[0;34m.\u001b[0m\u001b[0madaboost_params_func\u001b[0m\u001b[0;34m(\u001b[0m\u001b[0mself\u001b[0m\u001b[0;34m.\u001b[0m\u001b[0mtrial\u001b[0m\u001b[0;34m)\u001b[0m\u001b[0;34m\u001b[0m\u001b[0;34m\u001b[0m\u001b[0m\n\u001b[1;32m    156\u001b[0m         \u001b[0;32mif\u001b[0m \u001b[0mtype\u001b[0m\u001b[0;34m(\u001b[0m\u001b[0mself\u001b[0m\u001b[0;34m.\u001b[0m\u001b[0mclassifier\u001b[0m\u001b[0;34m)\u001b[0m \u001b[0;34m==\u001b[0m \u001b[0mLGBMClassifier\u001b[0m\u001b[0;34m:\u001b[0m\u001b[0;34m\u001b[0m\u001b[0;34m\u001b[0m\u001b[0m\n\u001b[0;32m--> 157\u001b[0;31m             \u001b[0mparameters\u001b[0m \u001b[0;34m=\u001b[0m \u001b[0mself\u001b[0m\u001b[0;34m.\u001b[0m\u001b[0mlgbm_params_func\u001b[0m\u001b[0;34m(\u001b[0m\u001b[0mself\u001b[0m\u001b[0;34m.\u001b[0m\u001b[0mtrial\u001b[0m\u001b[0;34m)\u001b[0m\u001b[0;34m\u001b[0m\u001b[0;34m\u001b[0m\u001b[0m\n\u001b[0m\u001b[1;32m    158\u001b[0m \u001b[0;34m\u001b[0m\u001b[0m\n\u001b[1;32m    159\u001b[0m         \u001b[0mparameters\u001b[0m\u001b[0;34m.\u001b[0m\u001b[0mupdate\u001b[0m\u001b[0;34m(\u001b[0m\u001b[0mexisting_params\u001b[0m\u001b[0;34m)\u001b[0m\u001b[0;34m\u001b[0m\u001b[0;34m\u001b[0m\u001b[0m\n",
      "\u001b[0;32m~/miniconda3/envs/geods37/lib/python3.7/site-packages/GeoDS-1.1.0-py3.7.egg/GeoDS/supervised/tuning.py\u001b[0m in \u001b[0;36mlightgbm_params\u001b[0;34m(trial)\u001b[0m\n\u001b[1;32m     41\u001b[0m \u001b[0;34m\u001b[0m\u001b[0m\n\u001b[1;32m     42\u001b[0m \u001b[0;32mdef\u001b[0m \u001b[0mlightgbm_params\u001b[0m\u001b[0;34m(\u001b[0m\u001b[0mtrial\u001b[0m\u001b[0;34m)\u001b[0m\u001b[0;34m:\u001b[0m\u001b[0;34m\u001b[0m\u001b[0;34m\u001b[0m\u001b[0m\n\u001b[0;32m---> 43\u001b[0;31m     params = {\"boosting_type\": trial.suggest_categorical(\"clf__bosting_type\", ['gbdt', 'dart', 'goss']),\n\u001b[0m\u001b[1;32m     44\u001b[0m               \u001b[0;34m\"num_leaves\"\u001b[0m\u001b[0;34m:\u001b[0m \u001b[0mtrial\u001b[0m\u001b[0;34m.\u001b[0m\u001b[0msuggest_int\u001b[0m\u001b[0;34m(\u001b[0m\u001b[0;34m'clf__num_leaves'\u001b[0m\u001b[0;34m,\u001b[0m \u001b[0;36m10\u001b[0m\u001b[0;34m,\u001b[0m \u001b[0;36m200\u001b[0m\u001b[0;34m)\u001b[0m\u001b[0;34m,\u001b[0m\u001b[0;34m\u001b[0m\u001b[0;34m\u001b[0m\u001b[0m\n\u001b[1;32m     45\u001b[0m               \u001b[0;34m\"min_data\"\u001b[0m\u001b[0;34m:\u001b[0m \u001b[0mtrial\u001b[0m\u001b[0;34m.\u001b[0m\u001b[0msuggest_int\u001b[0m\u001b[0;34m(\u001b[0m\u001b[0;34m'clf__min_data'\u001b[0m\u001b[0;34m,\u001b[0m \u001b[0;36m50\u001b[0m\u001b[0;34m,\u001b[0m \u001b[0;36m200\u001b[0m\u001b[0;34m)\u001b[0m\u001b[0;34m,\u001b[0m\u001b[0;34m\u001b[0m\u001b[0;34m\u001b[0m\u001b[0m\n",
      "\u001b[0;32m~/miniconda3/envs/geods37/lib/python3.7/site-packages/optuna/trial/_frozen.py\u001b[0m in \u001b[0;36msuggest_categorical\u001b[0;34m(self, name, choices)\u001b[0m\n\u001b[1;32m    270\u001b[0m     ) -> CategoricalChoiceType:\n\u001b[1;32m    271\u001b[0m \u001b[0;34m\u001b[0m\u001b[0m\n\u001b[0;32m--> 272\u001b[0;31m         \u001b[0;32mreturn\u001b[0m \u001b[0mself\u001b[0m\u001b[0;34m.\u001b[0m\u001b[0m_suggest\u001b[0m\u001b[0;34m(\u001b[0m\u001b[0mname\u001b[0m\u001b[0;34m,\u001b[0m \u001b[0mCategoricalDistribution\u001b[0m\u001b[0;34m(\u001b[0m\u001b[0mchoices\u001b[0m\u001b[0;34m=\u001b[0m\u001b[0mchoices\u001b[0m\u001b[0;34m)\u001b[0m\u001b[0;34m)\u001b[0m\u001b[0;34m\u001b[0m\u001b[0;34m\u001b[0m\u001b[0m\n\u001b[0m\u001b[1;32m    273\u001b[0m \u001b[0;34m\u001b[0m\u001b[0m\n\u001b[1;32m    274\u001b[0m     \u001b[0;32mdef\u001b[0m \u001b[0mreport\u001b[0m\u001b[0;34m(\u001b[0m\u001b[0mself\u001b[0m\u001b[0;34m,\u001b[0m \u001b[0mvalue\u001b[0m\u001b[0;34m:\u001b[0m \u001b[0mfloat\u001b[0m\u001b[0;34m,\u001b[0m \u001b[0mstep\u001b[0m\u001b[0;34m:\u001b[0m \u001b[0mint\u001b[0m\u001b[0;34m)\u001b[0m \u001b[0;34m->\u001b[0m \u001b[0;32mNone\u001b[0m\u001b[0;34m:\u001b[0m\u001b[0;34m\u001b[0m\u001b[0;34m\u001b[0m\u001b[0m\n",
      "\u001b[0;32m~/miniconda3/envs/geods37/lib/python3.7/site-packages/optuna/trial/_frozen.py\u001b[0m in \u001b[0;36m_suggest\u001b[0;34m(self, name, distribution)\u001b[0m\n\u001b[1;32m    356\u001b[0m             raise ValueError(\n\u001b[1;32m    357\u001b[0m                 \u001b[0;34m\"The value of the parameter '{}' is not found. Please set it at \"\u001b[0m\u001b[0;34m\u001b[0m\u001b[0;34m\u001b[0m\u001b[0m\n\u001b[0;32m--> 358\u001b[0;31m                 \u001b[0;34m\"the construction of the FrozenTrial object.\"\u001b[0m\u001b[0;34m.\u001b[0m\u001b[0mformat\u001b[0m\u001b[0;34m(\u001b[0m\u001b[0mname\u001b[0m\u001b[0;34m)\u001b[0m\u001b[0;34m\u001b[0m\u001b[0;34m\u001b[0m\u001b[0m\n\u001b[0m\u001b[1;32m    359\u001b[0m             )\n\u001b[1;32m    360\u001b[0m \u001b[0;34m\u001b[0m\u001b[0m\n",
      "\u001b[0;31mValueError\u001b[0m: The value of the parameter 'clf__bosting_type' is not found. Please set it at the construction of the FrozenTrial object."
     ]
    }
   ],
   "source": [
    "# Since the type of the elements of lambda_objective is still lambda functions,\n",
    "# The trials will still end with the same value again!\n",
    "# Because as I said at the beginning of this notebook, we need to give the input parameters to fix this bug.\n",
    "\n",
    "for objective in lambda_objective:\n",
    "    my_pipe, my_study = tuning.tune(n_trials=trial, \n",
    "                                objective_function=objective(study.trials[0]), \n",
    "                                output_folder='./', \n",
    "                                study_name='test', \n",
    "                                random_state=42)"
   ]
  },
  {
   "cell_type": "code",
   "execution_count": null,
   "id": "db1f7ce3",
   "metadata": {},
   "outputs": [],
   "source": []
  }
 ],
 "metadata": {
  "kernelspec": {
   "display_name": "Geods Kernel",
   "language": "python",
   "name": "geods"
  },
  "language_info": {
   "codemirror_mode": {
    "name": "ipython",
    "version": 3
   },
   "file_extension": ".py",
   "mimetype": "text/x-python",
   "name": "python",
   "nbconvert_exporter": "python",
   "pygments_lexer": "ipython3",
   "version": "3.7.10"
  }
 },
 "nbformat": 4,
 "nbformat_minor": 5
}
